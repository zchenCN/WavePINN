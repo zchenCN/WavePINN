{
 "cells": [
  {
   "cell_type": "code",
   "execution_count": 2,
   "metadata": {},
   "outputs": [
    {
     "name": "stdout",
     "output_type": "stream",
     "text": [
      "Device = cuda\n"
     ]
    }
   ],
   "source": [
    "import numpy as np \n",
    "import torch \n",
    "import torch.nn as nn\n",
    "from matplotlib import pyplot as plt \n",
    "\n",
    "device = 'cuda' if torch.cuda.is_available else 'cpu'\n",
    "print(f'Device = {device}')"
   ]
  },
  {
   "cell_type": "code",
   "execution_count": 3,
   "metadata": {},
   "outputs": [],
   "source": [
    "def delta1(x, x0):\n",
    "    \"\"\"Numerical Dirac delta function at x0\n",
    "    \"\"\"\n",
    "    beta = 0.001\n",
    "    exp = np.exp(-(x-x0)**2 / beta)\n",
    "    return exp / np.sqrt(np.pi * beta)\n"
   ]
  },
  {
   "cell_type": "code",
   "execution_count": 4,
   "metadata": {},
   "outputs": [],
   "source": [
    "class DNN(nn.Module):\n",
    "    \"\"\"Fully connected neural network\n",
    "    \"\"\"\n",
    "    def __init__(self, layer_sizes):\n",
    "        super(DNN, self).__init__()\n",
    "        self.layer_sizes = layer_sizes\n",
    "        self.linears = nn.ModuleList()\n",
    "        for i in range(1, len(layer_sizes)):\n",
    "            self.linears.append(nn.Linear(layer_sizes[i-1], layer_sizes[i]))\n",
    "\n",
    "    def forward(self, x):\n",
    "        for linear in self.linears[:-1]:\n",
    "            x = torch.tanh(linear(x))\n",
    "        x = self.linears[-1](x)\n",
    "        return x \n"
   ]
  },
  {
   "cell_type": "code",
   "execution_count": 5,
   "metadata": {},
   "outputs": [],
   "source": [
    "def computer_mse_loss(Y_pred, Y_train):\n",
    "    assert Y_pred.shape == Y_train.shape\n",
    "    return torch.mean(torch.square(Y_pred-Y_train))"
   ]
  },
  {
   "cell_type": "code",
   "execution_count": 6,
   "metadata": {},
   "outputs": [],
   "source": [
    "num_samples = 1000\n",
    "\n",
    "X_train = np.linspace(0, 1, 100)\n",
    "Y_train = delta1(X_train, x0=0.5)\n",
    "\n",
    "layer_sizes = [1] + [128] * 5 + [1]\n",
    "lr = 0.0003\n",
    "max_niter = 1001\n",
    "\n",
    "dnn = DNN(layer_sizes)\n",
    "dnn.to(device)\n",
    "\n",
    "optimizer = torch.optim.Adam(\n",
    "    dnn.parameters(),\n",
    "    lr=lr\n",
    ")"
   ]
  },
  {
   "cell_type": "code",
   "execution_count": 7,
   "metadata": {},
   "outputs": [
    {
     "name": "stdout",
     "output_type": "stream",
     "text": [
      "Iter 0, Loss 1.2457e+01\n",
      "Iter 100, Loss 1.1059e+01\n",
      "Iter 200, Loss 5.8444e-01\n",
      "Iter 300, Loss 1.1154e-01\n",
      "Iter 400, Loss 3.6009e-02\n",
      "Iter 500, Loss 1.1010e-02\n",
      "Iter 600, Loss 3.0829e-03\n",
      "Iter 700, Loss 1.1594e-03\n",
      "Iter 800, Loss 8.2253e-04\n",
      "Iter 900, Loss 7.2642e-04\n",
      "Iter 1000, Loss 1.7545e-03\n"
     ]
    }
   ],
   "source": [
    "# Train\n",
    "for niter in range(max_niter):\n",
    "    Y = dnn(torch.tensor(X_train[:, np.newaxis], dtype=torch.float32, device=device))\n",
    "    loss = computer_mse_loss(Y, torch.tensor(Y_train[:, np.newaxis], dtype=torch.float32, device=device))\n",
    "    optimizer.zero_grad()\n",
    "    loss.backward()\n",
    "    optimizer.step()\n",
    "\n",
    "    if niter % 100 == 0 or niter == max_niter - 1:\n",
    "        print('Iter %d, Loss %.4e' % (niter, loss))"
   ]
  },
  {
   "cell_type": "code",
   "execution_count": 8,
   "metadata": {},
   "outputs": [
    {
     "data": {
      "text/plain": [
       "<matplotlib.legend.Legend at 0x7fb5b05eab50>"
      ]
     },
     "execution_count": 8,
     "metadata": {},
     "output_type": "execute_result"
    },
    {
     "data": {
      "image/png": "[encoded data removed]",
      "text/plain": [
       "<Figure size 432x288 with 1 Axes>"
      ]
     },
     "metadata": {
      "needs_background": "light"
     },
     "output_type": "display_data"
    }
   ],
   "source": [
    "Y_pred = dnn(torch.tensor(X_train[:, np.newaxis], dtype=torch.float32, device=device))\n",
    "Y_pred = Y_pred.squeeze().detach().cpu().numpy()\n",
    "plt.plot(Y_pred, label='pred')\n",
    "#plt.plot(Y_train, label='train')\n",
    "plt.legend()\n"
   ]
  },
  {
   "cell_type": "code",
   "execution_count": 9,
   "metadata": {},
   "outputs": [],
   "source": [
    "# Fit 2d delta\n",
    "x = np.linspace(0, 1, 100)\n",
    "y = np.linspace(0, 1, 100)\n",
    "X, Y = np.meshgrid(x, y)\n",
    "X_train = np.c_[X.flatten()[:, np.newaxis], Y.flatten()[:, np.newaxis]]\n",
    "Y_train = delta2(X_train[:, 0], X_train[:, 1], x0=0.5, y0=0.5).reshape(-1, 1)\n",
    "\n",
    "layer_sizes = [2] + [128] * 5 + [1]\n",
    "lr = 0.0003\n",
    "max_niter = 1001\n",
    "\n",
    "dnn = DNN(layer_sizes)\n",
    "dnn.to(device)\n",
    "\n",
    "optimizer = torch.optim.Adam(\n",
    "    dnn.parameters(),\n",
    "    lr=lr\n",
    ")"
   ]
  },
  {
   "cell_type": "code",
   "execution_count": null,
   "metadata": {},
   "outputs": [],
   "source": []
  }
 ],
 "metadata": {
  "interpreter": {
   "hash": "7fb573f6801b0d304e22c18a334546aa60592e9da22665e0c79b01891dec50c1"
  },
  "kernelspec": {
   "display_name": "Python 3 (ipykernel)",
   "language": "python",
   "name": "python3"
  },
  "language_info": {
   "codemirror_mode": {
    "name": "ipython",
    "version": 3
   },
   "file_extension": ".py",
   "mimetype": "text/x-python",
   "name": "python",
   "nbconvert_exporter": "python",
   "pygments_lexer": "ipython3",
   "version": "3.9.7"
  }
 },
 "nbformat": 4,
 "nbformat_minor": 4
}
