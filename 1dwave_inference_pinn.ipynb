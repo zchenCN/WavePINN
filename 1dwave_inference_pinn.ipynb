{
 "cells": [
  {
   "cell_type": "code",
   "execution_count": 1,
   "id": "f228c605-f294-4e46-a676-1027a509dc9a",
   "metadata": {},
   "outputs": [
    {
     "name": "stdout",
     "output_type": "stream",
     "text": [
      "Device = cuda\n"
     ]
    }
   ],
   "source": [
    "import numpy as np\n",
    "from scipy.io import loadmat\n",
    "from matplotlib import pyplot as plt\n",
    "import torch\n",
    "import torch.nn as nn\n",
    "device = 'cuda' if torch.cuda.is_available() else 'cpu'\n",
    "print(f'Device = {device}')"
   ]
  },
  {
   "cell_type": "markdown",
   "id": "b8ca5cea-1f8a-4f28-b7c8-d297b8b3185b",
   "metadata": {},
   "source": [
    "We solve the following 1d homogenenous wave equation:\n",
    "\\begin{equation}\n",
    "\\begin{split}\n",
    "&u_{tt} - c^2u_{xx} = 0, -1 < x < 1, t > 0 \\\\\n",
    "&u(-1, t) = u(1, t) = 0\\\\\n",
    "&u(x, 0) = \\cos\\frac{\\pi x}{2}, u_t(x, 0) = 0\n",
    "\\end{split}\n",
    "\\end{equation}\n",
    "The theoretical solution of it is:\n",
    "$$ u(x, t) = \\cos\\frac{\\pi ct}{2}\\cos\\frac{\\pi x}{2}$$"
   ]
  },
  {
   "cell_type": "code",
   "execution_count": 2,
   "id": "d65023a2-2152-4119-9c34-1c10b7cfcdb2",
   "metadata": {},
   "outputs": [],
   "source": [
    "class DNN(nn.Module):\n",
    "    \"\"\"Fully connected neural network\n",
    "    \"\"\"\n",
    "    def __init__(self, layer_sizes):\n",
    "        super(DNN, self).__init__()\n",
    "        self.layer_sizes = layer_sizes\n",
    "        self.linears = nn.ModuleList()\n",
    "        for i in range(1, len(layer_sizes)):\n",
    "            self.linears.append(nn.Linear(layer_sizes[i-1], layer_sizes[i]))\n",
    "\n",
    "    def forward(self, x):\n",
    "        for linear in self.linears[:-1]:\n",
    "            # x = torch.tanh(linear(x))\n",
    "            x = torch.sin(linear(x))\n",
    "        x = self.linears[-1](x)\n",
    "        return x "
   ]
  },
  {
   "cell_type": "code",
   "execution_count": 3,
   "id": "b9a65c7c-cb41-4d7b-a452-145259f78907",
   "metadata": {},
   "outputs": [],
   "source": [
    "class PINN(nn.Module):\n",
    "    \"\"\"Physic informed neural network\n",
    "    \"\"\"\n",
    "    def __init__(self, c, layer_sizes, Ni, Nb, Nc):\n",
    "        super(PINN, self).__init__()\n",
    "        self.c = c\n",
    "        \n",
    "        # Initial condition\n",
    "        xi = np.random.uniform(-1, 1, (Ni, 1))\n",
    "        self.xi = torch.tensor(xi, dtype=torch.float32, requires_grad=True, device=device)\n",
    "        self.ti = torch.zeros(Ni, 1, dtype=torch.float32, requires_grad=True, device=device)\n",
    "        ui = np.cos(np.pi * xi / 2)\n",
    "        self.ui = torch.tensor(ui, dtype=torch.float32, requires_grad=True, device=device)\n",
    "        \n",
    "        # Boundary condition\n",
    "        tl = np.random.uniform(0, 1, (Nb, 1))\n",
    "        xl = np.ones((Nb, 1)) * (-1)\n",
    "        self.tl = torch.tensor(tl, dtype=torch.float32, requires_grad=True, device=device)\n",
    "        self.xl = torch.tensor(xl, dtype=torch.float32, requires_grad=True, device=device)\n",
    "        tr = np.random.uniform(0, 1, (Nb, 1))\n",
    "        xr = np.ones((Nb, 1))  \n",
    "        self.tr = torch.tensor(tr, dtype=torch.float32, requires_grad=True, device=device)\n",
    "        self.xr = torch.tensor(xr, dtype=torch.float32, requires_grad=True, device=device)        \n",
    "        \n",
    "        # Collocation points\n",
    "        xf = np.random.uniform(-1, 1, (Nc, 1))\n",
    "        tf = np.random.uniform(0, 1, (Nc, 1))\n",
    "        self.xf = torch.tensor(xf, dtype=torch.float32, requires_grad=True, device=device)\n",
    "        self.tf = torch.tensor(tf, dtype=torch.float32, requires_grad=True, device=device)\n",
    "            \n",
    "        self.loss = []\n",
    "        self.dnn = DNN(layer_sizes).to(device)\n",
    "        self.iter = 0\n",
    "        self.max_num_iter = 10000\n",
    "        # self.optimizer = torch.optim.LBFGS(\n",
    "        #     self.dnn.parameters(), \n",
    "        #     lr=1.0, \n",
    "        #     max_iter=50000, \n",
    "        #     max_eval=50000, \n",
    "        #     history_size=50,\n",
    "        #     tolerance_grad=1e-5, \n",
    "        #     tolerance_change=1.0 * np.finfo(float).eps,\n",
    "        #     line_search_fn=\"strong_wolfe\"       # can be \"strong_wolfe\"\n",
    "        # )\n",
    "        \n",
    "    def net_u(self, x, t):\n",
    "        u = self.dnn(torch.cat((x, t), dim=1))\n",
    "        return u \n",
    "\n",
    "    def net_f(self, x, t):\n",
    "        u = self.net_u(x, t)\n",
    "\n",
    "        u_t = torch.autograd.grad(\n",
    "            u, t, \n",
    "            grad_outputs=torch.ones_like(u),\n",
    "            retain_graph=True,\n",
    "            create_graph=True\n",
    "        )[0]\n",
    "        \n",
    "        u_tt = torch.autograd.grad(\n",
    "            u_t, t, \n",
    "            grad_outputs=torch.ones_like(u_t),\n",
    "            retain_graph=True,\n",
    "            create_graph=True\n",
    "        )[0]\n",
    "\n",
    "        u_x = torch.autograd.grad(\n",
    "            u, x, \n",
    "            grad_outputs=torch.ones_like(u),\n",
    "            retain_graph=True,\n",
    "            create_graph=True\n",
    "        )[0]\n",
    "\n",
    "        u_xx = torch.autograd.grad(\n",
    "            u_x, x, \n",
    "            grad_outputs=torch.ones_like(u_x),\n",
    "            retain_graph=True,\n",
    "            create_graph=True\n",
    "        )[0]\n",
    "\n",
    "        Lu = u_tt  - self.c ** 2 * u_xx\n",
    "        return Lu \n",
    "    \n",
    "#     def initial_loss(self):\n",
    "#         u = self.net_u(self.xi, self.ti)\n",
    "#         li = torch.mean(torch.square(u - self.ui))\n",
    "#         self.loss_i.append(li.item())\n",
    "#         return li\n",
    "    \n",
    "#     def boundary_loss(self):\n",
    "#         ul = self.net_u(self.xl, self.tl)\n",
    "#         ur = self.net_u(self.xr, self.tr)\n",
    "#         lb = torch.mean(torch.square(ul)) +\\\n",
    "#              torch.mean(torch.square(ur))\n",
    "#         self.loss_b.append(lb.item())\n",
    "#         return lb\n",
    "                        \n",
    "#     def collocation_loss(self):\n",
    "#         Lu = self.net_f(self.xf, self.tf)\n",
    "#         lc = torch.mean(torch.square(Lu))\n",
    "#         self.loss_c.append(lc.item())\n",
    "#         return lc\n",
    "\n",
    "    def loss_func(self):\n",
    "        self.optimizer.zero_grad()\n",
    "        \n",
    "        ui = self.net_u(self.xi, self.ti)\n",
    "        ui_t = torch.autograd.grad(\n",
    "            ui, self.ti,\n",
    "            grad_outputs=torch.ones_like(ui),\n",
    "            retain_graph=True,\n",
    "            create_graph=True\n",
    "        )[0]\n",
    "        loss_i = torch.mean((self.ui - ui) ** 2) + torch.mean(ui_t ** 2)\n",
    "        \n",
    "        f_pred = self.net_f(self.xf, self.tf)\n",
    "        loss_f = torch.mean(f_pred ** 2)\n",
    "        \n",
    "        ul = self.net_u(self.xl, self.tl)\n",
    "        ur = self.net_u(self.xr, self.tr)\n",
    "        loss_b = torch.mean(ul ** 2) + torch.mean(ur ** 2)\n",
    "\n",
    "        loss = loss_i + loss_b +  loss_f\n",
    "        self.loss.append(loss.item())\n",
    "        \n",
    "        loss.backward()\n",
    "        self.iter += 1\n",
    "        if self.iter % 100 == 0:\n",
    "            print(\"Iter %d, Loss: %.4e, Initial loss: %.4e, Boundary loss: %.4e, Collocation loss : %.4e\" \n",
    "                  % (self.iter, loss.item(), loss_i.item(), loss_b.item(), loss_f.item()))\n",
    "        return loss\n",
    "    \n",
    "    # def compute_loss(self):\n",
    "    #     self.optimizer.zero_grad()\n",
    "    #     li = self.initial_loss()\n",
    "    #     lb = self.boundary_loss()\n",
    "    #     lc = self.collocation_loss()\n",
    "    #     l = li + lb + lc \n",
    "    #     l.backward()\n",
    "    #     self.loss.append(l.item())\n",
    "    #     self.num_iter += 1\n",
    "    #     if self.num_iter % 500 == 0 or self.num_iter == self.max_num_iter:\n",
    "    #         self.loss.append(l.item())\n",
    "    #         print(\"Iter %d, Loss: %.4e, Initial loss: %.4e, Boundary loss: %.4e, Collocation loss : %.4e\" \n",
    "    #               % (self.num_iter, l.item(), li.item(), lb.item(), lc.item()))\n",
    "    #     return l\n",
    "\n",
    "    def train(self):\n",
    "        self.dnn.train()\n",
    "        self.optimizer.step(self.loss_func)\n",
    "\n",
    "            \n",
    "    def predict(self, x, t):\n",
    "        self.dnn.eval() \n",
    "        x = torch.tensor(x, requires_grad=True, dtype=torch.float32, device=device)\n",
    "        t = torch.tensor(t, requires_grad=True, dtype=torch.float32, device=device)\n",
    "        u = self.net_u(x, t)\n",
    "        Lu = self.net_f(x, t)\n",
    "        u = u.detach().cpu().numpy()\n",
    "        Lu = Lu.detach().cpu().numpy()\n",
    "        return u, Lu"
   ]
  },
  {
   "cell_type": "code",
   "execution_count": 4,
   "id": "69162a24-22b1-42cd-aa8f-de6c434d5fd7",
   "metadata": {},
   "outputs": [],
   "source": [
    "c = 1\n",
    "Ni = 200\n",
    "Nb = 200\n",
    "Nc = 10000\n",
    "layer_sizes = [2] + [128] * 9 + [1]\n",
    "model = PINN(c, layer_sizes, Ni, Nb, Nc)"
   ]
  },
  {
   "cell_type": "code",
   "execution_count": 5,
   "id": "31ba2f4d-c9b0-43bc-8ee9-d2d7bd5478fd",
   "metadata": {},
   "outputs": [
    {
     "name": "stdout",
     "output_type": "stream",
     "text": [
      "Iter 100, Loss: 5.5443e-04, Initial loss: 2.0759e-04, Boundary loss: 1.2120e-05, Collocation loss : 3.3472e-04\n"
     ]
    }
   ],
   "source": [
    "model.train()"
   ]
  },
  {
   "cell_type": "code",
   "execution_count": 6,
   "id": "689fb6b0-b421-41f5-888b-01be7281a64c",
   "metadata": {},
   "outputs": [],
   "source": [
    "t = np.linspace(0, 1, 200)[:, None]\n",
    "x = np.linspace(0, 1, 200)[:, None]\n",
    "X, T = np.meshgrid(x,t)\n",
    "t_star = T.flatten()[:,None]\n",
    "x_star = X.flatten()[:,None]\n",
    "u_star = np.cos(np.pi * c * t_star / 2) * np.cos(np.pi * x_star / 2)"
   ]
  },
  {
   "cell_type": "code",
   "execution_count": 7,
   "id": "0c8e31c8-d429-42d9-805f-ac82077fccb3",
   "metadata": {},
   "outputs": [
    {
     "ename": "RuntimeError",
     "evalue": "CUDA out of memory. Tried to allocate 20.00 MiB (GPU 0; 4.00 GiB total capacity; 1.73 GiB already allocated; 0 bytes free; 1.75 GiB reserved in total by PyTorch) If reserved memory is >> allocated memory try setting max_split_size_mb to avoid fragmentation.  See documentation for Memory Management and PYTORCH_CUDA_ALLOC_CONF",
     "output_type": "error",
     "traceback": [
      "\u001b[0;31m---------------------------------------------------------------------------\u001b[0m",
      "\u001b[0;31mRuntimeError\u001b[0m                              Traceback (most recent call last)",
      "\u001b[0;32m/tmp/ipykernel_317/1952873884.py\u001b[0m in \u001b[0;36m<module>\u001b[0;34m\u001b[0m\n\u001b[0;32m----> 1\u001b[0;31m \u001b[0mu_pred\u001b[0m\u001b[0;34m,\u001b[0m \u001b[0mf_pred\u001b[0m \u001b[0;34m=\u001b[0m \u001b[0mmodel\u001b[0m\u001b[0;34m.\u001b[0m\u001b[0mpredict\u001b[0m\u001b[0;34m(\u001b[0m\u001b[0mx_star\u001b[0m\u001b[0;34m,\u001b[0m \u001b[0mt_star\u001b[0m\u001b[0;34m)\u001b[0m\u001b[0;34m\u001b[0m\u001b[0;34m\u001b[0m\u001b[0m\n\u001b[0m\u001b[1;32m      2\u001b[0m \u001b[0;34m\u001b[0m\u001b[0m\n\u001b[1;32m      3\u001b[0m \u001b[0merror_u\u001b[0m \u001b[0;34m=\u001b[0m \u001b[0mnp\u001b[0m\u001b[0;34m.\u001b[0m\u001b[0mlinalg\u001b[0m\u001b[0;34m.\u001b[0m\u001b[0mnorm\u001b[0m\u001b[0;34m(\u001b[0m\u001b[0mu_star\u001b[0m\u001b[0;34m-\u001b[0m\u001b[0mu_pred\u001b[0m\u001b[0;34m,\u001b[0m\u001b[0;36m2\u001b[0m\u001b[0;34m)\u001b[0m\u001b[0;34m/\u001b[0m\u001b[0mnp\u001b[0m\u001b[0;34m.\u001b[0m\u001b[0mlinalg\u001b[0m\u001b[0;34m.\u001b[0m\u001b[0mnorm\u001b[0m\u001b[0;34m(\u001b[0m\u001b[0mu_star\u001b[0m\u001b[0;34m,\u001b[0m\u001b[0;36m2\u001b[0m\u001b[0;34m)\u001b[0m\u001b[0;34m\u001b[0m\u001b[0;34m\u001b[0m\u001b[0m\n\u001b[1;32m      4\u001b[0m \u001b[0mprint\u001b[0m\u001b[0;34m(\u001b[0m\u001b[0;34m'Error u: %e'\u001b[0m \u001b[0;34m%\u001b[0m \u001b[0;34m(\u001b[0m\u001b[0merror_u\u001b[0m\u001b[0;34m)\u001b[0m\u001b[0;34m)\u001b[0m\u001b[0;34m\u001b[0m\u001b[0;34m\u001b[0m\u001b[0m\n\u001b[1;32m      5\u001b[0m \u001b[0;34m\u001b[0m\u001b[0m\n",
      "\u001b[0;32m/tmp/ipykernel_317/798176965.py\u001b[0m in \u001b[0;36mpredict\u001b[0;34m(self, x, t)\u001b[0m\n\u001b[1;32m    156\u001b[0m         \u001b[0mt\u001b[0m \u001b[0;34m=\u001b[0m \u001b[0mtorch\u001b[0m\u001b[0;34m.\u001b[0m\u001b[0mtensor\u001b[0m\u001b[0;34m(\u001b[0m\u001b[0mt\u001b[0m\u001b[0;34m,\u001b[0m \u001b[0mrequires_grad\u001b[0m\u001b[0;34m=\u001b[0m\u001b[0;32mTrue\u001b[0m\u001b[0;34m,\u001b[0m \u001b[0mdtype\u001b[0m\u001b[0;34m=\u001b[0m\u001b[0mtorch\u001b[0m\u001b[0;34m.\u001b[0m\u001b[0mfloat32\u001b[0m\u001b[0;34m,\u001b[0m \u001b[0mdevice\u001b[0m\u001b[0;34m=\u001b[0m\u001b[0mdevice\u001b[0m\u001b[0;34m)\u001b[0m\u001b[0;34m\u001b[0m\u001b[0;34m\u001b[0m\u001b[0m\n\u001b[1;32m    157\u001b[0m         \u001b[0mu\u001b[0m \u001b[0;34m=\u001b[0m \u001b[0mself\u001b[0m\u001b[0;34m.\u001b[0m\u001b[0mnet_u\u001b[0m\u001b[0;34m(\u001b[0m\u001b[0mx\u001b[0m\u001b[0;34m,\u001b[0m \u001b[0mt\u001b[0m\u001b[0;34m)\u001b[0m\u001b[0;34m\u001b[0m\u001b[0;34m\u001b[0m\u001b[0m\n\u001b[0;32m--> 158\u001b[0;31m         \u001b[0mLu\u001b[0m \u001b[0;34m=\u001b[0m \u001b[0mself\u001b[0m\u001b[0;34m.\u001b[0m\u001b[0mnet_f\u001b[0m\u001b[0;34m(\u001b[0m\u001b[0mx\u001b[0m\u001b[0;34m,\u001b[0m \u001b[0mt\u001b[0m\u001b[0;34m)\u001b[0m\u001b[0;34m\u001b[0m\u001b[0;34m\u001b[0m\u001b[0m\n\u001b[0m\u001b[1;32m    159\u001b[0m         \u001b[0mu\u001b[0m \u001b[0;34m=\u001b[0m \u001b[0mu\u001b[0m\u001b[0;34m.\u001b[0m\u001b[0mdetach\u001b[0m\u001b[0;34m(\u001b[0m\u001b[0;34m)\u001b[0m\u001b[0;34m.\u001b[0m\u001b[0mcpu\u001b[0m\u001b[0;34m(\u001b[0m\u001b[0;34m)\u001b[0m\u001b[0;34m.\u001b[0m\u001b[0mnumpy\u001b[0m\u001b[0;34m(\u001b[0m\u001b[0;34m)\u001b[0m\u001b[0;34m\u001b[0m\u001b[0;34m\u001b[0m\u001b[0m\n\u001b[1;32m    160\u001b[0m         \u001b[0mLu\u001b[0m \u001b[0;34m=\u001b[0m \u001b[0mLu\u001b[0m\u001b[0;34m.\u001b[0m\u001b[0mdetach\u001b[0m\u001b[0;34m(\u001b[0m\u001b[0;34m)\u001b[0m\u001b[0;34m.\u001b[0m\u001b[0mcpu\u001b[0m\u001b[0;34m(\u001b[0m\u001b[0;34m)\u001b[0m\u001b[0;34m.\u001b[0m\u001b[0mnumpy\u001b[0m\u001b[0;34m(\u001b[0m\u001b[0;34m)\u001b[0m\u001b[0;34m\u001b[0m\u001b[0;34m\u001b[0m\u001b[0m\n",
      "\u001b[0;32m/tmp/ipykernel_317/798176965.py\u001b[0m in \u001b[0;36mnet_f\u001b[0;34m(self, x, t)\u001b[0m\n\u001b[1;32m     58\u001b[0m         )[0]\n\u001b[1;32m     59\u001b[0m \u001b[0;34m\u001b[0m\u001b[0m\n\u001b[0;32m---> 60\u001b[0;31m         u_tt = torch.autograd.grad(\n\u001b[0m\u001b[1;32m     61\u001b[0m             \u001b[0mu_t\u001b[0m\u001b[0;34m,\u001b[0m \u001b[0mt\u001b[0m\u001b[0;34m,\u001b[0m\u001b[0;34m\u001b[0m\u001b[0;34m\u001b[0m\u001b[0m\n\u001b[1;32m     62\u001b[0m             \u001b[0mgrad_outputs\u001b[0m\u001b[0;34m=\u001b[0m\u001b[0mtorch\u001b[0m\u001b[0;34m.\u001b[0m\u001b[0mones_like\u001b[0m\u001b[0;34m(\u001b[0m\u001b[0mu_t\u001b[0m\u001b[0;34m)\u001b[0m\u001b[0;34m,\u001b[0m\u001b[0;34m\u001b[0m\u001b[0;34m\u001b[0m\u001b[0m\n",
      "\u001b[0;32m~/install/envs/cuda/lib/python3.9/site-packages/torch/autograd/__init__.py\u001b[0m in \u001b[0;36mgrad\u001b[0;34m(outputs, inputs, grad_outputs, retain_graph, create_graph, only_inputs, allow_unused)\u001b[0m\n\u001b[1;32m    232\u001b[0m         \u001b[0mretain_graph\u001b[0m \u001b[0;34m=\u001b[0m \u001b[0mcreate_graph\u001b[0m\u001b[0;34m\u001b[0m\u001b[0;34m\u001b[0m\u001b[0m\n\u001b[1;32m    233\u001b[0m \u001b[0;34m\u001b[0m\u001b[0m\n\u001b[0;32m--> 234\u001b[0;31m     return Variable._execution_engine.run_backward(\n\u001b[0m\u001b[1;32m    235\u001b[0m         \u001b[0moutputs\u001b[0m\u001b[0;34m,\u001b[0m \u001b[0mgrad_outputs_\u001b[0m\u001b[0;34m,\u001b[0m \u001b[0mretain_graph\u001b[0m\u001b[0;34m,\u001b[0m \u001b[0mcreate_graph\u001b[0m\u001b[0;34m,\u001b[0m\u001b[0;34m\u001b[0m\u001b[0;34m\u001b[0m\u001b[0m\n\u001b[1;32m    236\u001b[0m         inputs, allow_unused, accumulate_grad=False)\n",
      "\u001b[0;31mRuntimeError\u001b[0m: CUDA out of memory. Tried to allocate 20.00 MiB (GPU 0; 4.00 GiB total capacity; 1.73 GiB already allocated; 0 bytes free; 1.75 GiB reserved in total by PyTorch) If reserved memory is >> allocated memory try setting max_split_size_mb to avoid fragmentation.  See documentation for Memory Management and PYTORCH_CUDA_ALLOC_CONF"
     ]
    }
   ],
   "source": [
    "u_pred, f_pred = model.predict(x_star, t_star)\n",
    "\n",
    "error_u = np.linalg.norm(u_star-u_pred,2)/np.linalg.norm(u_star,2)\n",
    "print('Error u: %e' % (error_u))                     \n",
    "\n",
    "# U_pred = griddata(X_star, u_pred.flatten(), (X, T), method='cubic')\n",
    "# Error = np.abs(Exact - U_pred)"
   ]
  },
  {
   "cell_type": "code",
   "execution_count": 12,
   "id": "2bf08b20-9af7-4056-9c7d-c94ea1bf0a99",
   "metadata": {},
   "outputs": [
    {
     "data": {
      "text/plain": [
       "<matplotlib.image.AxesImage at 0x7f9b747b3970>"
      ]
     },
     "execution_count": 12,
     "metadata": {},
     "output_type": "execute_result"
    },
    {
     "data": {
      "image/png": "[encoded data removed]",
      "text/plain": [
       "<Figure size 432x288 with 1 Axes>"
      ]
     },
     "metadata": {
      "needs_background": "light"
     },
     "output_type": "display_data"
    }
   ],
   "source": [
    "plt.imshow(u_pred.reshape(200, 200))"
   ]
  },
  {
   "cell_type": "code",
   "execution_count": 13,
   "id": "5efcca04-9aa5-40e8-9c43-dce42240e3e2",
   "metadata": {},
   "outputs": [
    {
     "data": {
      "text/plain": [
       "<matplotlib.image.AxesImage at 0x7f9b7453e2b0>"
      ]
     },
     "execution_count": 13,
     "metadata": {},
     "output_type": "execute_result"
    },
    {
     "data": {
      "image/png": "[encoded data removed]",
      "text/plain": [
       "<Figure size 432x288 with 1 Axes>"
      ]
     },
     "metadata": {
      "needs_background": "light"
     },
     "output_type": "display_data"
    }
   ],
   "source": [
    "plt.imshow(u_star.reshape(200, 200))"
   ]
  },
  {
   "cell_type": "code",
   "execution_count": null,
   "id": "d9a48725-1365-4010-8e92-5df3ebe8f1be",
   "metadata": {},
   "outputs": [],
   "source": []
  },
  {
   "cell_type": "code",
   "execution_count": null,
   "id": "786987b7-e226-45ab-ab47-4d13da6aed46",
   "metadata": {},
   "outputs": [],
   "source": []
  }
 ],
 "metadata": {
  "kernelspec": {
   "display_name": "Python 3 (ipykernel)",
   "language": "python",
   "name": "python3"
  },
  "language_info": {
   "codemirror_mode": {
    "name": "ipython",
    "version": 3
   },
   "file_extension": ".py",
   "mimetype": "text/x-python",
   "name": "python",
   "nbconvert_exporter": "python",
   "pygments_lexer": "ipython3",
   "version": "3.9.7"
  }
 },
 "nbformat": 4,
 "nbformat_minor": 5
}
