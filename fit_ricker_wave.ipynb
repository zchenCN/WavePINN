{
 "cells": [
  {
   "cell_type": "code",
   "execution_count": 97,
   "metadata": {},
   "outputs": [
    {
     "name": "stdout",
     "output_type": "stream",
     "text": [
      "Device = cuda\n"
     ]
    }
   ],
   "source": [
    "import numpy as np \n",
    "import torch \n",
    "import torch.nn as nn\n",
    "from matplotlib import pyplot as plt \n",
    "\n",
    "device = 'cuda' if torch.cuda.is_available else 'cpu'\n",
    "print(f'Device = {device}')"
   ]
  },
  {
   "cell_type": "code",
   "execution_count": 98,
   "metadata": {},
   "outputs": [],
   "source": [
    "def delta(x, x0):\n",
    "    \"\"\"Numerical Dirac delta function at x0\n",
    "    \"\"\"\n",
    "    beta = 0.01\n",
    "    exp = np.exp(-(x-x0)**2 / beta)\n",
    "    return exp / np.sqrt(np.pi * beta)\n",
    "    \n",
    "def ricker(t, f0):\n",
    "    \"\"\"Ricker wavelet\n",
    "    \"\"\"\n",
    "    sigma = 1 / (np.pi * f0 * np.sqrt(2))\n",
    "    t0 = 6 * sigma\n",
    "    tmp = np.pi**2 * f0**2 * (t-t0)**2 \n",
    "    w = (1 - 2*tmp) * np.exp(-tmp)\n",
    "    return w \n",
    "\n",
    "def source(X, x0=0.5, f0=10):\n",
    "    x = X[:, 0:1]\n",
    "    t = X[:, 1:2]\n",
    "    w = ricker(t, f0)\n",
    "    d = delta(x, x0)\n",
    "    return w * d"
   ]
  },
  {
   "cell_type": "code",
   "execution_count": 99,
   "metadata": {},
   "outputs": [],
   "source": [
    "# Generate data\n",
    "n_samples = 10000\n",
    "X = np.random.rand(n_samples, 2)\n",
    "F = source(X)"
   ]
  },
  {
   "cell_type": "code",
   "execution_count": 100,
   "metadata": {},
   "outputs": [],
   "source": [
    "# Train test split\n",
    "idx = np.arange(n_samples)\n",
    "np.random.shuffle(idx)\n",
    "idx_train = idx[:int(n_samples*0.7)]\n",
    "idx_test = idx[int(n_samples*0.7):]\n",
    "X_train = X[idx_train]\n",
    "F_train = F[idx_train]\n",
    "X_test = X[idx_test]\n",
    "F_test = F[idx_test]"
   ]
  },
  {
   "cell_type": "code",
   "execution_count": 101,
   "metadata": {},
   "outputs": [],
   "source": [
    "# Data normalization\n",
    "mx = X_train.mean(axis=0, keepdims=True)\n",
    "sx = X_train.std(axis=0, keepdims=True)\n",
    "mf = F_train.mean()\n",
    "sf = F_train.std()\n",
    "X_train = (X_train - mx) / sx \n",
    "F_train = (F_train - mf) / sf\n",
    "X_test = (X_test - mx) / sx"
   ]
  },
  {
   "cell_type": "code",
   "execution_count": 102,
   "metadata": {},
   "outputs": [],
   "source": [
    "class DNN(nn.Module):\n",
    "    \"\"\"Fully connected neural network\n",
    "    \"\"\"\n",
    "    def __init__(self, layer_sizes):\n",
    "        super(DNN, self).__init__()\n",
    "        self.layer_sizes = layer_sizes\n",
    "        self.linears = nn.ModuleList()\n",
    "        for i in range(1, len(layer_sizes)):\n",
    "            self.linears.append(nn.Linear(layer_sizes[i-1], layer_sizes[i]))\n",
    "\n",
    "    def forward(self, x):\n",
    "        for linear in self.linears[:-1]:\n",
    "            x = torch.tanh(linear(x))\n",
    "        x = self.linears[-1](x)\n",
    "        return x \n",
    "    \n",
    "    def predict(self, X):\n",
    "        self.eval()\n",
    "        Y_pred = self.forward(X)\n",
    "        Y_pred = Y_pred.detach().cpu().numpy()\n",
    "        return Y_pred"
   ]
  },
  {
   "cell_type": "code",
   "execution_count": 103,
   "metadata": {},
   "outputs": [],
   "source": [
    "def computer_mse_loss(Y_pred, Y_train):\n",
    "    assert Y_pred.shape == Y_train.shape\n",
    "    return torch.mean(torch.square(Y_pred-Y_train))"
   ]
  },
  {
   "cell_type": "code",
   "execution_count": 108,
   "metadata": {},
   "outputs": [
    {
     "name": "stdout",
     "output_type": "stream",
     "text": [
      "Iter 0, Loss 1.0179e+00\n",
      "Iter 100, Loss 9.9945e-01\n",
      "Iter 200, Loss 9.9645e-01\n",
      "Iter 300, Loss 9.9247e-01\n",
      "Iter 400, Loss 9.3120e-01\n",
      "Iter 500, Loss 6.3630e-01\n",
      "Iter 600, Loss 2.0337e-01\n",
      "Iter 700, Loss 3.2591e-02\n",
      "Iter 800, Loss 1.4158e-02\n",
      "Iter 900, Loss 8.2417e-03\n",
      "Iter 1000, Loss 6.1327e-03\n"
     ]
    }
   ],
   "source": [
    "layer_sizes = [2] + [128]*5 + [1]\n",
    "lr = 0.001\n",
    "max_niter = 1001\n",
    "\n",
    "dnn = DNN(layer_sizes)\n",
    "dnn.to(device)\n",
    "\n",
    "optimizer = torch.optim.Adam(\n",
    "    dnn.parameters(),\n",
    "    lr=lr\n",
    ")\n",
    "\n",
    "train_error = []\n",
    "test_error = []\n",
    "\n",
    "# Train\n",
    "for niter in range(max_niter):\n",
    "    F_pred = dnn(torch.tensor(X_train, dtype=torch.float32, device=device))\n",
    "    lt = computer_mse_loss(F_pred, torch.tensor(F_train, dtype=torch.float32, device=device))\n",
    "    train_error.append(lt.item())\n",
    "    with torch.no_grad():\n",
    "        F_pred = dnn(torch.tensor(X_test, dtype=torch.float32, device=device))\n",
    "        F_pred = F_pred * sf + mf\n",
    "        lv = computer_mse_loss(F_pred, torch.tensor(F_test, dtype=torch.float32, device=device))\n",
    "        test_error.append(lv.item())\n",
    "    optimizer.zero_grad()\n",
    "    lt.backward()\n",
    "    optimizer.step()\n",
    "\n",
    "    if niter % 100 == 0 or niter == max_niter - 1:\n",
    "        print('Iter %d, Loss %.4e' % (niter, lt))"
   ]
  },
  {
   "cell_type": "code",
   "execution_count": 109,
   "metadata": {},
   "outputs": [
    {
     "data": {
      "text/plain": [
       "<matplotlib.legend.Legend at 0x7f0a408703d0>"
      ]
     },
     "execution_count": 109,
     "metadata": {},
     "output_type": "execute_result"
    },
    {
     "data": {
      "image/png": "[encoded data removed]",
      "text/plain": [
       "<Figure size 432x288 with 1 Axes>"
      ]
     },
     "metadata": {
      "needs_background": "light"
     },
     "output_type": "display_data"
    }
   ],
   "source": [
    "plt.plot(train_error, label='Training Error')\n",
    "plt.plot(test_error, label=\"Test Error\")\n",
    "plt.legend()"
   ]
  },
  {
   "cell_type": "code",
   "execution_count": 110,
   "metadata": {},
   "outputs": [
    {
     "data": {
      "text/plain": [
       "<matplotlib.image.AxesImage at 0x7f0a407b5040>"
      ]
     },
     "execution_count": 110,
     "metadata": {},
     "output_type": "execute_result"
    },
    {
     "data": {
      "image/png": "[encoded data removed]",
      "text/plain": [
       "<Figure size 432x288 with 2 Axes>"
      ]
     },
     "metadata": {
      "needs_background": "light"
     },
     "output_type": "display_data"
    }
   ],
   "source": [
    "xs = np.linspace(0, 1, 100)\n",
    "ys = np.linspace(0, 1, 100)\n",
    "Xs, Ys = np.meshgrid(xs, ys)\n",
    "X = np.c_[Xs.flatten()[:, np.newaxis], Ys.flatten()[:, np.newaxis]]\n",
    "Y_label = source(X).reshape(100, 100)\n",
    "X = (X-mx) / sx\n",
    "Y_pred = dnn.predict(torch.tensor(X, device=device, dtype=torch.float32))\n",
    "Y_pred = (Y_pred * sf + mf).reshape(100, 100)\n",
    "\n",
    "plt.subplot(121)\n",
    "plt.imshow(Y_label)\n",
    "plt.subplot(122)\n",
    "plt.imshow(Y_pred)"
   ]
  },
  {
   "cell_type": "code",
   "execution_count": null,
   "metadata": {},
   "outputs": [],
   "source": []
  }
 ],
 "metadata": {
  "interpreter": {
   "hash": "7fb573f6801b0d304e22c18a334546aa60592e9da22665e0c79b01891dec50c1"
  },
  "kernelspec": {
   "display_name": "Python 3 (ipykernel)",
   "language": "python",
   "name": "python3"
  },
  "language_info": {
   "codemirror_mode": {
    "name": "ipython",
    "version": 3
   },
   "file_extension": ".py",
   "mimetype": "text/x-python",
   "name": "python",
   "nbconvert_exporter": "python",
   "pygments_lexer": "ipython3",
   "version": "3.9.7"
  }
 },
 "nbformat": 4,
 "nbformat_minor": 2
}
