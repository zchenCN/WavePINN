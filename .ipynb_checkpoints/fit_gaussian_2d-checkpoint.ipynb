{
 "cells": [
  {
   "cell_type": "code",
   "execution_count": 1,
   "metadata": {},
   "outputs": [
    {
     "name": "stdout",
     "output_type": "stream",
     "text": [
      "Device = cuda\n"
     ]
    }
   ],
   "source": [
    "import numpy as np \n",
    "import torch \n",
    "import torch.nn as nn\n",
    "from matplotlib import pyplot as plt \n",
    "\n",
    "device = 'cuda' if torch.cuda.is_available else 'cpu'\n",
    "print(f'Device = {device}')"
   ]
  },
  {
   "cell_type": "code",
   "execution_count": 2,
   "metadata": {},
   "outputs": [],
   "source": [
    "def delta2(x, y, x0=0.5, y0=0.5):\n",
    "    \"\"\"Numerical Dirac delta function at (x0, y0)\n",
    "    \"\"\"\n",
    "    assert x.shape == y.shape\n",
    "    beta = 0.001\n",
    "    exp = np.exp((-(x - x0)**2 - (y - y0)**2) / beta)\n",
    "    return exp / (np.pi * beta**2)"
   ]
  },
  {
   "cell_type": "code",
   "execution_count": 3,
   "metadata": {},
   "outputs": [],
   "source": [
    "class DNN(nn.Module):\n",
    "    \"\"\"Fully connected neural network\n",
    "    \"\"\"\n",
    "    def __init__(self, layer_sizes):\n",
    "        super(DNN, self).__init__()\n",
    "        self.layer_sizes = layer_sizes\n",
    "        self.linears = nn.ModuleList()\n",
    "        for i in range(1, len(layer_sizes)):\n",
    "            self.linears.append(nn.Linear(layer_sizes[i-1], layer_sizes[i]))\n",
    "\n",
    "    def forward(self, x):\n",
    "        for linear in self.linears[:-1]:\n",
    "            x = torch.tanh(linear(x))\n",
    "        x = self.linears[-1](x)\n",
    "        return x \n",
    "    \n",
    "    def predict(self, X):\n",
    "        self.eval()\n",
    "        Y_pred = self.forward(X)\n",
    "        Y_pred = Y_pred.detach().cpu().numpy()\n",
    "        return Y_pred"
   ]
  },
  {
   "cell_type": "code",
   "execution_count": 4,
   "metadata": {},
   "outputs": [],
   "source": [
    "def computer_mse_loss(Y_pred, Y_train):\n",
    "    assert Y_pred.shape == Y_train.shape\n",
    "    return torch.mean(torch.square(Y_pred-Y_train))"
   ]
  },
  {
   "cell_type": "code",
   "execution_count": 32,
   "metadata": {},
   "outputs": [
    {
     "name": "stdout",
     "output_type": "stream",
     "text": [
      "Iter 0, Loss 2.0130e-01\n",
      "Iter 100, Loss 2.0002e-01\n",
      "Iter 200, Loss 2.0002e-01\n",
      "Iter 300, Loss 2.0002e-01\n",
      "Iter 400, Loss 2.0002e-01\n",
      "Iter 500, Loss 2.0002e-01\n",
      "Iter 600, Loss 2.0002e-01\n",
      "Iter 700, Loss 2.0002e-01\n",
      "Iter 800, Loss 2.0002e-01\n",
      "Iter 900, Loss 2.0002e-01\n",
      "Iter 1000, Loss 2.0002e-01\n"
     ]
    },
    {
     "data": {
      "text/plain": [
       "<matplotlib.legend.Legend at 0x7f5e05bf6fa0>"
      ]
     },
     "execution_count": 32,
     "metadata": {},
     "output_type": "execute_result"
    },
    {
     "data": {
      "image/png": "[encoded data removed]",
      "text/plain": [
       "<Figure size 432x288 with 1 Axes>"
      ]
     },
     "metadata": {
      "needs_background": "light"
     },
     "output_type": "display_data"
    }
   ],
   "source": [
    "# Training with raw data\n",
    "num_samples = 10000\n",
    "X = np.random.rand(num_samples, 2)\n",
    "Y = delta2(X[:, 0:1], X[:, 1:2])\n",
    "# Train test split\n",
    "idx = np.arange(num_samples)\n",
    "np.random.shuffle(idx)\n",
    "idx_train = idx[:int(num_samples*0.7)]\n",
    "idx_test = idx[int(num_samples*0.7):]\n",
    "X_train = X[idx_train]\n",
    "Y_train = Y[idx_train]\n",
    "X_test = X[idx_test]\n",
    "Y_test = Y[idx_test]\n",
    "# Model and configurations\n",
    "layer_sizes = [2] + [128]*5 + [1]\n",
    "lr = 1\n",
    "max_niter = 1001\n",
    "dnn = DNN(layer_sizes)\n",
    "dnn.to(device)\n",
    "optimizer = torch.optim.Adam(\n",
    "    dnn.parameters(),\n",
    "    lr=lr\n",
    ")\n",
    "train_error = []\n",
    "test_error = []\n",
    "# Train\n",
    "for niter in range(max_niter):\n",
    "    Y_pred = dnn(torch.tensor(X_train, dtype=torch.float32, device=device))\n",
    "    lt = computer_mse_loss(Y_pred, torch.tensor(Y_train, dtype=torch.float32, device=device)) / 1e9\n",
    "    train_error.append(lt.item())\n",
    "    with torch.no_grad():\n",
    "        Y_pred = dnn(torch.tensor(X_test, dtype=torch.float32, device=device))\n",
    "        lv = computer_mse_loss(Y_pred, torch.tensor(Y_test, dtype=torch.float32, device=device)) /1e9\n",
    "        test_error.append(lv.item())\n",
    "    optimizer.zero_grad()\n",
    "    lt.backward()\n",
    "    optimizer.step()\n",
    "\n",
    "    if niter % 100 == 0 or niter == max_niter - 1:\n",
    "        print('Iter %d, Loss %.4e' % (niter, lt))\n",
    "# Plot loss\n",
    "plt.plot(train_error, label='Training Error')\n",
    "plt.plot(test_error, label=\"Test Error\")\n",
    "plt.legend()"
   ]
  },
  {
   "cell_type": "code",
   "execution_count": 31,
   "metadata": {},
   "outputs": [
    {
     "data": {
      "text/plain": [
       "<matplotlib.image.AxesImage at 0x7f5e05cbf550>"
      ]
     },
     "execution_count": 31,
     "metadata": {},
     "output_type": "execute_result"
    },
    {
     "data": {
      "image/png": "[encoded data removed]",
      "text/plain": [
       "<Figure size 432x288 with 2 Axes>"
      ]
     },
     "metadata": {
      "needs_background": "light"
     },
     "output_type": "display_data"
    }
   ],
   "source": [
    "xs = np.linspace(0, 1, 100)\n",
    "ys = np.linspace(0, 1, 100)\n",
    "Xs, Ys = np.meshgrid(xs, ys)\n",
    "X = np.c_[Xs.flatten()[:, np.newaxis], Ys.flatten()[:, np.newaxis]]\n",
    "Y_label = delta2(X[:, 0], X[:, 1]).reshape(100, 100)\n",
    "Y_pred = dnn.predict(torch.tensor(X, device=device, dtype=torch.float32))\n",
    "Y_pred = Y_pred.reshape(100, 100)\n",
    "plt.subplot(121)\n",
    "plt.imshow(Y_label)\n",
    "plt.subplot(122)\n",
    "plt.imshow(Y_pred)"
   ]
  },
  {
   "cell_type": "code",
   "execution_count": 16,
   "metadata": {},
   "outputs": [
    {
     "name": "stdout",
     "output_type": "stream",
     "text": [
      "Iter 0, Loss 1.0000e+00\n",
      "Iter 100, Loss 9.9947e-01\n",
      "Iter 200, Loss 9.8095e-01\n",
      "Iter 300, Loss 5.8814e-01\n",
      "Iter 400, Loss 3.0650e-02\n",
      "Iter 500, Loss 8.3834e-03\n",
      "Iter 600, Loss 2.6960e-03\n",
      "Iter 700, Loss 1.2853e-03\n",
      "Iter 800, Loss 1.0799e-03\n",
      "Iter 900, Loss 1.2135e-02\n",
      "Iter 1000, Loss 5.6307e-04\n"
     ]
    },
    {
     "data": {
      "text/plain": [
       "<matplotlib.legend.Legend at 0x7f2a5be389a0>"
      ]
     },
     "execution_count": 16,
     "metadata": {},
     "output_type": "execute_result"
    },
    {
     "data": {
      "image/png": "[encoded data removed]",
      "text/plain": [
       "<Figure size 432x288 with 1 Axes>"
      ]
     },
     "metadata": {
      "needs_background": "light"
     },
     "output_type": "display_data"
    }
   ],
   "source": [
    "# Training with scaled output\n",
    "num_samples = 10000\n",
    "X = np.random.rand(num_samples, 2)\n",
    "Y = delta2(X[:, 0:1], X[:, 1:2])\n",
    "# Train test split\n",
    "idx = np.arange(num_samples)\n",
    "np.random.shuffle(idx)\n",
    "idx_train = idx[:int(num_samples*0.7)]\n",
    "idx_test = idx[int(num_samples*0.7):]\n",
    "X_train = X[idx_train]\n",
    "Y_train = Y[idx_train]\n",
    "X_test = X[idx_test]\n",
    "Y_test = Y[idx_test]\n",
    "# Scaled output\n",
    "sy = Y_train.std()\n",
    "Y_train = Y_train / sy\n",
    "# Model and configurations\n",
    "layer_sizes = [2] + [128]*5 + [1]\n",
    "lr = 0.01\n",
    "max_niter = 1001\n",
    "dnn = DNN(layer_sizes)\n",
    "dnn.to(device)\n",
    "optimizer = torch.optim.Adam(\n",
    "    dnn.parameters(),\n",
    "    lr=lr\n",
    ")\n",
    "train_error = []\n",
    "test_error = []\n",
    "# Train\n",
    "for niter in range(max_niter):\n",
    "    Y_pred = dnn(torch.tensor(X_train, dtype=torch.float32, device=device))\n",
    "    lt = computer_mse_loss(Y_pred, torch.tensor(Y_train, dtype=torch.float32, device=device))\n",
    "    train_error.append(lt.item())\n",
    "    with torch.no_grad():\n",
    "        Y_pred = dnn(torch.tensor(X_test, dtype=torch.float32, device=device)) \n",
    "        lv = computer_mse_loss(Y_pred, torch.tensor(Y_test, dtype=torch.float32, device=device) / sy)\n",
    "        test_error.append(lv.item())\n",
    "    optimizer.zero_grad()\n",
    "    lt.backward()\n",
    "    optimizer.step()\n",
    "\n",
    "    if niter % 100 == 0 or niter == max_niter - 1:\n",
    "        print('Iter %d, Loss %.4e' % (niter, lt))\n",
    "# Plot loss\n",
    "plt.plot(train_error, label='Training Error')\n",
    "plt.plot(test_error, label=\"Test Error\")\n",
    "plt.legend()"
   ]
  },
  {
   "cell_type": "code",
   "execution_count": 17,
   "metadata": {},
   "outputs": [
    {
     "data": {
      "text/plain": [
       "<matplotlib.image.AxesImage at 0x7f2a5bd99af0>"
      ]
     },
     "execution_count": 17,
     "metadata": {},
     "output_type": "execute_result"
    },
    {
     "data": {
      "image/png": "[encoded data removed]",
      "text/plain": [
       "<Figure size 432x288 with 2 Axes>"
      ]
     },
     "metadata": {
      "needs_background": "light"
     },
     "output_type": "display_data"
    }
   ],
   "source": [
    "xs = np.linspace(0, 1, 100)\n",
    "ys = np.linspace(0, 1, 100)\n",
    "Xs, Ys = np.meshgrid(xs, ys)\n",
    "X = np.c_[Xs.flatten()[:, np.newaxis], Ys.flatten()[:, np.newaxis]]\n",
    "Y_label = delta2(X[:, 0], X[:, 1]).reshape(100, 100)\n",
    "Y_pred = dnn.predict(torch.tensor(X, device=device, dtype=torch.float32))\n",
    "Y_pred = (Y_pred * sy).reshape(100, 100)\n",
    "plt.subplot(121)\n",
    "plt.imshow(Y_label)\n",
    "plt.subplot(122)\n",
    "plt.imshow(Y_pred)"
   ]
  },
  {
   "cell_type": "code",
   "execution_count": 32,
   "metadata": {},
   "outputs": [
    {
     "name": "stdout",
     "output_type": "stream",
     "text": [
      "Iter 0, Loss 1.7805e+08\n",
      "Iter 100, Loss 1.7714e+08\n",
      "Iter 200, Loss 1.7531e+08\n",
      "Iter 300, Loss 1.7248e+08\n",
      "Iter 400, Loss 1.6986e+08\n",
      "Iter 500, Loss 1.6729e+08\n",
      "Iter 600, Loss 1.6491e+08\n",
      "Iter 700, Loss 1.6258e+08\n",
      "Iter 800, Loss 1.6034e+08\n",
      "Iter 900, Loss 1.6351e+08\n",
      "Iter 1000, Loss 1.6138e+08\n"
     ]
    },
    {
     "data": {
      "text/plain": [
       "<matplotlib.legend.Legend at 0x7f2a59e3a250>"
      ]
     },
     "execution_count": 32,
     "metadata": {},
     "output_type": "execute_result"
    },
    {
     "data": {
      "image/png": "[encoded data removed]",
      "text/plain": [
       "<Figure size 432x288 with 1 Axes>"
      ]
     },
     "metadata": {
      "needs_background": "light"
     },
     "output_type": "display_data"
    }
   ],
   "source": [
    "# Training with scaled intput\n",
    "num_samples = 10000\n",
    "X = np.random.rand(num_samples, 2)\n",
    "Y = delta2(X[:, 0:1], X[:, 1:2])\n",
    "# Train test split\n",
    "idx = np.arange(num_samples)\n",
    "np.random.shuffle(idx)\n",
    "idx_train = idx[:int(num_samples*0.7)]\n",
    "idx_test = idx[int(num_samples*0.7):]\n",
    "X_train = X[idx_train]\n",
    "Y_train = Y[idx_train]\n",
    "X_test = X[idx_test]\n",
    "Y_test = Y[idx_test]\n",
    "# Scaled input\n",
    "mx = X_train.mean(axis=0, keepdims=True)\n",
    "sx = X_train.std(axis=0, keepdims=True)\n",
    "X_train = (X_train -mx) / sx\n",
    "X_test = (X_test - mx) / sx\n",
    "# Model and configurations\n",
    "layer_sizes = [2] + [128]*5 + [1]\n",
    "lr = 0.\n",
    "max_niter = 1001\n",
    "dnn = DNN(layer_sizes)\n",
    "dnn.to(device)\n",
    "optimizer = torch.optim.Adam(\n",
    "    dnn.parameters(),\n",
    "    lr=lr\n",
    ")\n",
    "train_error = []\n",
    "test_error = []\n",
    "# Train\n",
    "for niter in range(max_niter):\n",
    "    Y_pred = dnn(torch.tensor(X_train, dtype=torch.float32, device=device))\n",
    "    lt = computer_mse_loss(Y_pred, torch.tensor(Y_train, dtype=torch.float32, device=device))\n",
    "    train_error.append(lt.item())\n",
    "    with torch.no_grad():\n",
    "        Y_pred = dnn(torch.tensor(X_test, dtype=torch.float32, device=device)) \n",
    "        lv = computer_mse_loss(Y_pred, torch.tensor(Y_test, dtype=torch.float32, device=device) / sy)\n",
    "        test_error.append(lv.item())\n",
    "    optimizer.zero_grad()\n",
    "    lt.backward()\n",
    "    optimizer.step()\n",
    "\n",
    "    if niter % 100 == 0 or niter == max_niter - 1:\n",
    "        print('Iter %d, Loss %.4e' % (niter, lt))\n",
    "# Plot loss\n",
    "plt.plot(train_error, label='Training Error')\n",
    "plt.plot(test_error, label=\"Test Error\")\n",
    "plt.legend()"
   ]
  },
  {
   "cell_type": "code",
   "execution_count": 31,
   "metadata": {},
   "outputs": [
    {
     "data": {
      "text/plain": [
       "<matplotlib.image.AxesImage at 0x7f2a59f0d400>"
      ]
     },
     "execution_count": 31,
     "metadata": {},
     "output_type": "execute_result"
    },
    {
     "data": {
      "image/png": "[encoded data removed]",
      "text/plain": [
       "<Figure size 432x288 with 2 Axes>"
      ]
     },
     "metadata": {
      "needs_background": "light"
     },
     "output_type": "display_data"
    }
   ],
   "source": [
    "xs = np.linspace(0, 1, 100)\n",
    "ys = np.linspace(0, 1, 100)\n",
    "Xs, Ys = np.meshgrid(xs, ys)\n",
    "X = np.c_[Xs.flatten()[:, np.newaxis], Ys.flatten()[:, np.newaxis]]\n",
    "Y_label = delta2(X[:, 0], X[:, 1]).reshape(100, 100)\n",
    "X = (X-mx) / sx\n",
    "Y_pred = dnn.predict(torch.tensor(X, device=device, dtype=torch.float32))\n",
    "Y_pred = (Y_pred * sy).reshape(100, 100)\n",
    "plt.subplot(121)\n",
    "plt.imshow(Y_label)\n",
    "plt.subplot(122)\n",
    "plt.imshow(Y_pred)"
   ]
  }
 ],
 "metadata": {
  "interpreter": {
   "hash": "7fb573f6801b0d304e22c18a334546aa60592e9da22665e0c79b01891dec50c1"
  },
  "kernelspec": {
   "display_name": "Python 3 (ipykernel)",
   "language": "python",
   "name": "python3"
  },
  "language_info": {
   "codemirror_mode": {
    "name": "ipython",
    "version": 3
   },
   "file_extension": ".py",
   "mimetype": "text/x-python",
   "name": "python",
   "nbconvert_exporter": "python",
   "pygments_lexer": "ipython3",
   "version": "3.9.7"
  }
 },
 "nbformat": 4,
 "nbformat_minor": 2
}
