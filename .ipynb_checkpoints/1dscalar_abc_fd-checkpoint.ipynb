{
 "cells": [
  {
   "cell_type": "markdown",
   "id": "b1db1b07-0de6-4259-b7cf-f372e8daab7a",
   "metadata": {},
   "source": [
    "The 1d scalar wave euqation with Mur ABC (Absorbing Boudary Condition) has the following form:\n",
    "\\begin{equation}\n",
    "\\begin{split}\n",
    "&u_{tt} - c^2(x)u_{xx} = f(x, t), a < x < b, t > 0 \\\\\n",
    "&u_t(a, t) - c(a)u_x(a, t) = 0\\\\\n",
    "&u_t(b, t) + c(b)u_x(b, t) = 0\\\\\n",
    "&u(x, 0) = 0\\\\\n",
    "&u_t(x, 0)  = 0 \n",
    "\\end{split}\n",
    "\\end{equation}"
   ]
  },
  {
   "cell_type": "markdown",
   "id": "d6f57e7e-5f14-497b-8d5b-d8d4b37e4804",
   "metadata": {},
   "source": [
    "We solve it with FD method\n",
    "$$ u^{n+1}_i - 2u^n_i + u^{n-1}_{i} = \\left(c_i\\frac{dt}{dx}\\right)^2\\left(u^n_{i+1} - 2u^n_i + u^n_{i-1}\\right) + dt^2f^n_i$$\n",
    "and \n",
    "\\begin{equation}\n",
    "\\begin{split}\n",
    "u^{n+1}_0 = c_0\\frac{dt}{dx}\\left(u^n_1 - u^n_0\\right) + u^n_0\\\\\n",
    "u^{n+1}_{n_x} = -c_{n_x}\\frac{dt}{dx}\\left(u^n_{n_x} - u^n_{n_x-1}\\right) + u^n_{n_x}\n",
    "\\end{split}\n",
    "\\end{equation}"
   ]
  },
  {
   "cell_type": "code",
   "execution_count": 37,
   "id": "983ea79c-9ed3-414a-8486-5aa6a31b2835",
   "metadata": {},
   "outputs": [],
   "source": [
    "import numpy as np\n",
    "from matplotlib import pyplot as plt"
   ]
  },
  {
   "cell_type": "code",
   "execution_count": 61,
   "id": "14731ce0-b4b2-4ea2-a6c3-58f484f39fdb",
   "metadata": {},
   "outputs": [],
   "source": [
    "class FDSolver:\n",
    "    def __init__(self, h, dt, c, nt, x0, f0):\n",
    "        self.nx = len(c) - 1\n",
    "        self.h = h \n",
    "        self.dt = dt \n",
    "        self.nt = nt\n",
    "        self.x0 = x0\n",
    "        self.f0 = f0\n",
    "        self.c = c\n",
    "        self.cdt = c * dt \n",
    "        \n",
    "        self.u_next = np.zeros(self.nx + 1)\n",
    "        self.u_current = np.zeros(self.nx + 1)\n",
    "        self.u_prev = np.zeros(self.nx + 1)\n",
    "        self.wavefield = np.zeros((self.nt + 1, self.nx + 1))\n",
    "        \n",
    "    def ricker(self, t):\n",
    "        sigma = 1 / (np.pi * self.f0 * np.sqrt(2))\n",
    "        t0 = 6 * sigma\n",
    "        tmp = np.pi**2 * self.f0**2 * (t-t0)**2 \n",
    "        w = (1 - 2*tmp) * np.exp(-tmp)\n",
    "        return w\n",
    "    \n",
    "    def cfl_number(self):\n",
    "        cfl = self.c.max() * self.dt / self.h\n",
    "        num_grid_per_wavelength = int(self.c.min() / (self.f0 * self.h))\n",
    "        print(f'CFL number is {cfl}, number of grid points in each wavelength is about {num_grid_per_wavelength}')\n",
    "        \n",
    "    def abc(self):\n",
    "        # Left boundary\n",
    "        self.u_next[0] = self.cdt[0] * (self.u_current[1] - \\\n",
    "                        self.u_current[0]) / h + self.u_current[0]\n",
    "        # Right boundary\n",
    "        self.u_next[-1] = -self.cdt[-1] * (self.u_current[-1] - \\\n",
    "                        self.u_current[-2]) / h + self.u_current[-1]\n",
    "        \n",
    "    def deriv_xx(self, u):\n",
    "        duxx = np.zeros_like(u)\n",
    "        for i in range(1, nx):\n",
    "            duxx[i] = (u[i+1] - 2 * u[i] + u[i-1]) / h ** 2\n",
    "        return duxx\n",
    "        \n",
    "    def steps(self):\n",
    "        for n in range(self.nt+1):\n",
    "            self.wavefield[n] = self.u_next\n",
    "            t = n * self.dt\n",
    "            self.u_next = 2 * self.u_current - self.u_prev + self.cdt**2 * self.deriv_xx(self.u_current)\n",
    "            # u_next[x0] += src(t)\n",
    "            self.u_next[self.x0] += self.dt**2 * self.ricker(t)\n",
    "            self.abc()\n",
    "            self.u_current, self.u_prev = self.u_next, self.u_current\n",
    "\n",
    "    def plot_wavefield_nt(self, nt):\n",
    "        u_nt = self.wavefield[nt]\n",
    "        fig = plt.figure()\n",
    "        ax = fig.add_subplot()\n",
    "        ax.plot(u_nt)\n",
    "        plt.show()\n",
    "        \n",
    "    def plot_wavefield(self):\n",
    "        fig = plt.figure()\n",
    "        ax = fig.add_subplot()\n",
    "        im = ax.imshow(self.wavefield, cmap=\"gray\", aspect=\"auto\")\n",
    "        plt.colorbar(im)\n",
    "        plt.show()"
   ]
  },
  {
   "cell_type": "code",
   "execution_count": 62,
   "id": "75275f04-060e-4979-918d-8daf3c730aa1",
   "metadata": {},
   "outputs": [
    {
     "name": "stdout",
     "output_type": "stream",
     "text": [
      "CFL number is 0.6, number of grid points in each wavelength is about 20\n"
     ]
    }
   ],
   "source": [
    "c = np.ones(201) * 2\n",
    "nx = 200\n",
    "h = 0.01\n",
    "dt = 0.003\n",
    "nt = 300\n",
    "x0 = 100\n",
    "f0 = 10\n",
    "solver = FDSolver(h, dt, c, nt, x0, f0)\n",
    "solver.cfl_number()"
   ]
  },
  {
   "cell_type": "code",
   "execution_count": 63,
   "id": "27e850ad-41a0-4f9c-8abe-b5773723541e",
   "metadata": {},
   "outputs": [],
   "source": [
    "solver.steps()"
   ]
  },
  {
   "cell_type": "code",
   "execution_count": 64,
   "id": "c3a49d03-36b4-4ad7-a58d-6d5e2be37edf",
   "metadata": {},
   "outputs": [
    {
     "data": {
      "image/png": "[encoded data removed]",
      "text/plain": [
       "<Figure size 432x288 with 1 Axes>"
      ]
     },
     "metadata": {
      "needs_background": "light"
     },
     "output_type": "display_data"
    }
   ],
   "source": [
    "solver.plot_wavefield_nt(180)"
   ]
  },
  {
   "cell_type": "code",
   "execution_count": 65,
   "id": "2de0876f-4305-4831-aaa6-00e65037a8f3",
   "metadata": {},
   "outputs": [
    {
     "data": {
      "image/png": "[encoded data removed]",
      "text/plain": [
       "<Figure size 432x288 with 2 Axes>"
      ]
     },
     "metadata": {
      "needs_background": "light"
     },
     "output_type": "display_data"
    }
   ],
   "source": [
    "solver.plot_wavefield()"
   ]
  },
  {
   "cell_type": "code",
   "execution_count": null,
   "id": "9168816c-2b5b-4aca-917c-bbbe0d5eb512",
   "metadata": {},
   "outputs": [],
   "source": []
  },
  {
   "cell_type": "code",
   "execution_count": null,
   "id": "02d495fa-a0e6-4c15-9069-fd05670c1cff",
   "metadata": {},
   "outputs": [],
   "source": []
  }
 ],
 "metadata": {
  "kernelspec": {
   "display_name": "Python 3 (ipykernel)",
   "language": "python",
   "name": "python3"
  },
  "language_info": {
   "codemirror_mode": {
    "name": "ipython",
    "version": 3
   },
   "file_extension": ".py",
   "mimetype": "text/x-python",
   "name": "python",
   "nbconvert_exporter": "python",
   "pygments_lexer": "ipython3",
   "version": "3.9.7"
  }
 },
 "nbformat": 4,
 "nbformat_minor": 5
}
