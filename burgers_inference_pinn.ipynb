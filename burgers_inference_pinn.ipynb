{
 "cells": [
  {
   "cell_type": "code",
   "execution_count": 1,
   "id": "f228c605-f294-4e46-a676-1027a509dc9a",
   "metadata": {},
   "outputs": [
    {
     "name": "stdout",
     "output_type": "stream",
     "text": [
      "Device = cuda\n"
     ]
    }
   ],
   "source": [
    "import numpy as np\n",
    "from scipy.io import loadmat\n",
    "from matplotlib import pyplot as plt\n",
    "import torch\n",
    "import torch.nn as nn\n",
    "device = 'cuda' if torch.cuda.is_available() else 'cpu'\n",
    "print(f'Device = {device}')"
   ]
  },
  {
   "cell_type": "markdown",
   "id": "b8ca5cea-1f8a-4f28-b7c8-d297b8b3185b",
   "metadata": {},
   "source": [
    "Burger's equation:\n",
    "\\begin{equation}\n",
    "\\begin{split}\n",
    "&u_t + uu_x - (0.01/\\pi)u_{xx} = 0, -1 < x < 1, 0 < t < 1 \\\\\n",
    "&u(-1, t) = u(1, t) = 0\\\\\n",
    "&u(x, 0) = -\\sin(\\pi x)\n",
    "\\end{split}\n",
    "\\end{equation}"
   ]
  },
  {
   "cell_type": "code",
   "execution_count": 2,
   "id": "d65023a2-2152-4119-9c34-1c10b7cfcdb2",
   "metadata": {},
   "outputs": [],
   "source": [
    "class DNN(nn.Module):\n",
    "    \"\"\"Fully connected neural network\n",
    "    \"\"\"\n",
    "    def __init__(self, layer_sizes):\n",
    "        super(DNN, self).__init__()\n",
    "        self.layer_sizes = layer_sizes\n",
    "        self.linears = nn.ModuleList()\n",
    "        for i in range(1, len(layer_sizes)):\n",
    "            self.linears.append(nn.Linear(layer_sizes[i-1], layer_sizes[i]))\n",
    "\n",
    "    def forward(self, x):\n",
    "        for linear in self.linears[:-1]:\n",
    "            x = torch.tanh(linear(x))\n",
    "            # x = torch.sin(linear(x))\n",
    "        x = self.linears[-1](x)\n",
    "        return x "
   ]
  },
  {
   "cell_type": "code",
   "execution_count": 9,
   "id": "b9a65c7c-cb41-4d7b-a452-145259f78907",
   "metadata": {},
   "outputs": [],
   "source": [
    "class PINN(nn.Module):\n",
    "    \"\"\"Physic informed neural network\n",
    "    \"\"\"\n",
    "    def __init__(self, nu, layer_sizes, Ni, Nb, Nc):\n",
    "        super(PINN, self).__init__()\n",
    "        self.nu = nu\n",
    "        \n",
    "        # Initial condition\n",
    "        xi = np.random.uniform(-1, 1, (Ni, 1))\n",
    "        self.xi = torch.tensor(xi, dtype=torch.float32, requires_grad=True, device=device)\n",
    "        self.ti = torch.zeros(Ni, 1, dtype=torch.float32, requires_grad=True, device=device)\n",
    "        ui = -np.sin(np.pi * xi)\n",
    "        self.ui = torch.tensor(ui, dtype=torch.float32, requires_grad=True, device=device)\n",
    "        \n",
    "        # Boundary condition\n",
    "        tl = np.random.uniform(0, 1, (Nb, 1))\n",
    "        xl = np.ones((Nb, 1)) * (-1)\n",
    "        self.tl = torch.tensor(tl, dtype=torch.float32, requires_grad=True, device=device)\n",
    "        self.xl = torch.tensor(xl, dtype=torch.float32, requires_grad=True, device=device)\n",
    "        tr = np.random.uniform(0, 1, (Nb, 1))\n",
    "        xr = np.ones((Nb, 1))  \n",
    "        self.tr = torch.tensor(tr, dtype=torch.float32, requires_grad=True, device=device)\n",
    "        self.xr = torch.tensor(xr, dtype=torch.float32, requires_grad=True, device=device)        \n",
    "        \n",
    "        # Collocation points\n",
    "        xf = np.random.uniform(-1, 1, (Nc, 1))\n",
    "        tf = np.random.uniform(0, 1, (Nc, 1))\n",
    "        self.xf = torch.tensor(xf, dtype=torch.float32, requires_grad=True, device=device)\n",
    "        self.tf = torch.tensor(tf, dtype=torch.float32, requires_grad=True, device=device)\n",
    "            \n",
    "        self.loss = []\n",
    "        self.dnn = DNN(layer_sizes).to(device)\n",
    "        self.iter = 0\n",
    "        self.max_num_iter = 10000\n",
    "        self.optimizer = torch.optim.LBFGS(\n",
    "            self.dnn.parameters(), \n",
    "            lr=1.0, \n",
    "            max_iter=50000, \n",
    "            max_eval=50000, \n",
    "            history_size=50,\n",
    "            tolerance_grad=1e-5, \n",
    "            tolerance_change=1.0 * np.finfo(float).eps,\n",
    "            line_search_fn=\"strong_wolfe\"       # can be \"strong_wolfe\"\n",
    "        )\n",
    "        \n",
    "    def net_u(self, x, t):\n",
    "        u = self.dnn(torch.cat((x, t), dim=1))\n",
    "        return u \n",
    "\n",
    "    def net_f(self, x, t):\n",
    "        u = self.net_u(x, t)\n",
    "\n",
    "        u_t = torch.autograd.grad(\n",
    "            u, t, \n",
    "            grad_outputs=torch.ones_like(u),\n",
    "            retain_graph=True,\n",
    "            create_graph=True\n",
    "        )[0]\n",
    "\n",
    "        u_x = torch.autograd.grad(\n",
    "            u, x, \n",
    "            grad_outputs=torch.ones_like(u),\n",
    "            retain_graph=True,\n",
    "            create_graph=True\n",
    "        )[0]\n",
    "\n",
    "        u_xx = torch.autograd.grad(\n",
    "            u_x, x, \n",
    "            grad_outputs=torch.ones_like(u_x),\n",
    "            retain_graph=True,\n",
    "            create_graph=True\n",
    "        )[0]\n",
    "\n",
    "        Lu = u_t + u * u_x - self.nu * u_xx\n",
    "        return Lu \n",
    "    \n",
    "#     def initial_loss(self):\n",
    "#         u = self.net_u(self.xi, self.ti)\n",
    "#         li = torch.mean(torch.square(u - self.ui))\n",
    "#         self.loss_i.append(li.item())\n",
    "#         return li\n",
    "    \n",
    "#     def boundary_loss(self):\n",
    "#         ul = self.net_u(self.xl, self.tl)\n",
    "#         ur = self.net_u(self.xr, self.tr)\n",
    "#         lb = torch.mean(torch.square(ul)) +\\\n",
    "#              torch.mean(torch.square(ur))\n",
    "#         self.loss_b.append(lb.item())\n",
    "#         return lb\n",
    "                        \n",
    "#     def collocation_loss(self):\n",
    "#         Lu = self.net_f(self.xf, self.tf)\n",
    "#         lc = torch.mean(torch.square(Lu))\n",
    "#         self.loss_c.append(lc.item())\n",
    "#         return lc\n",
    "\n",
    "    def loss_func(self):\n",
    "        self.optimizer.zero_grad()\n",
    "        \n",
    "        ui = self.net_u(self.xi, self.ti)\n",
    "        ul = self.net_u(self.xl, self.tl)\n",
    "        ur = self.net_u(self.xr, self.tr)\n",
    "        loss_b = torch.mean(torch.square(ul)) +\\\n",
    "             torch.mean(torch.square(ur))\n",
    "        f_pred = self.net_f(self.xf, self.tf)\n",
    "        loss_i = torch.mean((self.ui - ui) ** 2)\n",
    "        loss_f = torch.mean(f_pred ** 2)\n",
    "        \n",
    "        loss = loss_i + loss_b +  loss_f\n",
    "        self.loss.append(loss.item())\n",
    "        \n",
    "        loss.backward()\n",
    "        self.iter += 1\n",
    "        if self.iter % 100 == 0:\n",
    "            print(\"Iter %d, Loss: %.4e, Initial loss: %.4e, Boundary loss: %.4e, Collocation loss : %.4e\" \n",
    "                  % (self.iter, loss.item(), loss_i.item(), loss_b.item(), loss_c.item()))\n",
    "        return loss\n",
    "    \n",
    "    # def compute_loss(self):\n",
    "    #     self.optimizer.zero_grad()\n",
    "    #     li = self.initial_loss()\n",
    "    #     lb = self.boundary_loss()\n",
    "    #     lc = self.collocation_loss()\n",
    "    #     l = li + lb + lc \n",
    "    #     l.backward()\n",
    "    #     self.loss.append(l.item())\n",
    "    #     self.num_iter += 1\n",
    "    #     if self.num_iter % 500 == 0 or self.num_iter == self.max_num_iter:\n",
    "    #         self.loss.append(l.item())\n",
    "    #         print(\"Iter %d, Loss: %.4e, Initial loss: %.4e, Boundary loss: %.4e, Collocation loss : %.4e\" \n",
    "    #               % (self.num_iter, l.item(), li.item(), lb.item(), lc.item()))\n",
    "    #     return l\n",
    "\n",
    "    def train(self):\n",
    "        self.dnn.train()\n",
    "        self.optimizer.step(self.loss_func)\n",
    "\n",
    "            \n",
    "    def predict(self, x, t):\n",
    "        self.dnn.eval() \n",
    "        x = torch.tensor(x, requires_grad=True, dtype=torch.float32, device=device)\n",
    "        t = torch.tensor(t, requires_grad=True, dtype=torch.float32, device=device)\n",
    "        u = self.net_u(x, t)\n",
    "        Lu = self.net_f(x, t)\n",
    "        u = u.detach().cpu().numpy()\n",
    "        Lu = Lu.detach().cpu().numpy()\n",
    "        return u, Lu"
   ]
  },
  {
   "cell_type": "code",
   "execution_count": 10,
   "id": "69162a24-22b1-42cd-aa8f-de6c434d5fd7",
   "metadata": {},
   "outputs": [],
   "source": [
    "nu = 0.01 / np.pi\n",
    "Ni = 200\n",
    "Nb = 200\n",
    "Nc = 10000\n",
    "layer_sizes = [2, 20, 20, 20, 20, 20, 20, 20, 20, 1]\n",
    "model = PINN(nu, layer_sizes, Ni, Nb, Nc)"
   ]
  },
  {
   "cell_type": "code",
   "execution_count": 11,
   "id": "31ba2f4d-c9b0-43bc-8ee9-d2d7bd5478fd",
   "metadata": {},
   "outputs": [],
   "source": [
    "model.train()"
   ]
  },
  {
   "cell_type": "code",
   "execution_count": 12,
   "id": "689fb6b0-b421-41f5-888b-01be7281a64c",
   "metadata": {},
   "outputs": [],
   "source": [
    "data = loadmat('burgers_shock.mat')\n",
    "\n",
    "t = data['t'].flatten()[:,None]\n",
    "x = data['x'].flatten()[:,None]\n",
    "Exact = np.real(data['usol']).T\n",
    "X, T = np.meshgrid(x,t)\n",
    "x_star = X.flatten()[:,None]\n",
    "t_star = T.flatten()[:,None]\n",
    "u_star = Exact.flatten()[:,None]"
   ]
  },
  {
   "cell_type": "code",
   "execution_count": 13,
   "id": "0c8e31c8-d429-42d9-805f-ac82077fccb3",
   "metadata": {},
   "outputs": [
    {
     "name": "stdout",
     "output_type": "stream",
     "text": [
      "Error u: 5.649765e-01\n"
     ]
    }
   ],
   "source": [
    "u_pred, f_pred = model.predict(x_star, t_star)\n",
    "\n",
    "error_u = np.linalg.norm(u_star-u_pred,2)/np.linalg.norm(u_star,2)\n",
    "print('Error u: %e' % (error_u))                     \n",
    "\n",
    "# U_pred = griddata(X_star, u_pred.flatten(), (X, T), method='cubic')\n",
    "# Error = np.abs(Exact - U_pred)"
   ]
  },
  {
   "cell_type": "code",
   "execution_count": 14,
   "id": "2bf08b20-9af7-4056-9c7d-c94ea1bf0a99",
   "metadata": {},
   "outputs": [
    {
     "data": {
      "text/plain": [
       "[<matplotlib.lines.Line2D at 0x7f9dac433c70>]"
      ]
     },
     "execution_count": 14,
     "metadata": {},
     "output_type": "execute_result"
    },
    {
     "data": {
      "image/png": "[encoded data removed]",
      "text/plain": [
       "<Figure size 432x288 with 1 Axes>"
      ]
     },
     "metadata": {
      "needs_background": "light"
     },
     "output_type": "display_data"
    }
   ],
   "source": [
    "plt.plot(model.loss)"
   ]
  },
  {
   "cell_type": "code",
   "execution_count": null,
   "id": "5efcca04-9aa5-40e8-9c43-dce42240e3e2",
   "metadata": {},
   "outputs": [],
   "source": [
    "u_pred = u_pred.reshape(100, 256)"
   ]
  },
  {
   "cell_type": "code",
   "execution_count": null,
   "id": "26d38480-eece-4edf-869d-8a02ebbd1c6b",
   "metadata": {},
   "outputs": [],
   "source": [
    "plt.imshow(u_pred)"
   ]
  },
  {
   "cell_type": "code",
   "execution_count": null,
   "id": "d9a48725-1365-4010-8e92-5df3ebe8f1be",
   "metadata": {},
   "outputs": [],
   "source": []
  },
  {
   "cell_type": "code",
   "execution_count": null,
   "id": "786987b7-e226-45ab-ab47-4d13da6aed46",
   "metadata": {},
   "outputs": [],
   "source": []
  }
 ],
 "metadata": {
  "kernelspec": {
   "display_name": "Python 3 (ipykernel)",
   "language": "python",
   "name": "python3"
  },
  "language_info": {
   "codemirror_mode": {
    "name": "ipython",
    "version": 3
   },
   "file_extension": ".py",
   "mimetype": "text/x-python",
   "name": "python",
   "nbconvert_exporter": "python",
   "pygments_lexer": "ipython3",
   "version": "3.9.7"
  }
 },
 "nbformat": 4,
 "nbformat_minor": 5
}
