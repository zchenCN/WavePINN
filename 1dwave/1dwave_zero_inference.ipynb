{
 "cells": [
  {
   "cell_type": "code",
   "execution_count": 2,
   "metadata": {},
   "outputs": [
    {
     "name": "stdout",
     "output_type": "stream",
     "text": [
      "Device = cuda\n"
     ]
    }
   ],
   "source": [
    "# Solve 1d scalar wave equation with zero boundary conditions\n",
    "# and zero initial conditions\n",
    "import numpy as np \n",
    "import torch \n",
    "import torch.nn as nn\n",
    "from matplotlib import pyplot as plt \n",
    "\n",
    "device = 'cuda' if torch.cuda.is_available else 'cpu'\n",
    "print(f'Device = {device}')"
   ]
  },
  {
   "cell_type": "code",
   "execution_count": 3,
   "metadata": {},
   "outputs": [],
   "source": [
    "# RHS of wave equation f(x, t) = w(t) * delta(x-x_0)\n",
    "def delta(x, x0):\n",
    "    \"\"\"Numerical Dirac delta function at x0\n",
    "    \"\"\"\n",
    "    beta = 0.01\n",
    "    exp = np.exp(-(x-x0)**2 / beta)\n",
    "    return exp / np.sqrt(np.pi * beta)\n",
    "    \n",
    "def ricker(t, f0):\n",
    "    \"\"\"Ricker wavelet\n",
    "    \"\"\"\n",
    "    sigma = 1 / (np.pi * f0 * np.sqrt(2))\n",
    "    t0 = 6 * sigma\n",
    "    tmp = np.pi**2 * f0**2 * (t-t0)**2 \n",
    "    w = (1 - 2*tmp) * np.exp(-tmp)\n",
    "    return w \n",
    "\n",
    "def source(X, x0=0.5, f0=10):\n",
    "    x = X[:, 0:1]\n",
    "    t = X[:, 1:2]\n",
    "    w = ricker(t, f0)\n",
    "    d = delta(x, x0)\n",
    "    return w * d"
   ]
  },
  {
   "cell_type": "code",
   "execution_count": 8,
   "metadata": {},
   "outputs": [],
   "source": [
    "# Generate data\n",
    "n_samples = 10000\n",
    "X = np.random.rand(n_samples, 2)\n",
    "F = source(X)"
   ]
  },
  {
   "cell_type": "code",
   "execution_count": 9,
   "metadata": {},
   "outputs": [],
   "source": [
    "# Train test split\n",
    "idx = np.arange(n_samples)\n",
    "np.random.shuffle(idx)\n",
    "idx_train = idx[:int(n_samples*0.7)]\n",
    "idx_test = idx[int(n_samples*0.7):]\n",
    "X_train = X[idx_train]\n",
    "F_train = F[idx_train]\n",
    "X_test = X[idx_test]\n",
    "F_test = F[idx_test]"
   ]
  },
  {
   "cell_type": "code",
   "execution_count": 10,
   "metadata": {},
   "outputs": [],
   "source": [
    "class DNN(nn.Module):\n",
    "    \"\"\"Fully connected neural network\n",
    "    \"\"\"\n",
    "    def __init__(self, layer_sizes):\n",
    "        super(DNN, self).__init__()\n",
    "        self.layer_sizes = layer_sizes\n",
    "        self.linears = nn.ModuleList()\n",
    "        for i in range(1, len(layer_sizes)):\n",
    "            self.linears.append(nn.Linear(layer_sizes[i-1], layer_sizes[i]))\n",
    "\n",
    "    def forward(self, x):\n",
    "        for linear in self.linears[:-1]:\n",
    "            x = torch.tanh(linear(x))\n",
    "        x = self.linears[-1](x)\n",
    "        return x "
   ]
  },
  {
   "cell_type": "code",
   "execution_count": 11,
   "metadata": {},
   "outputs": [],
   "source": [
    "class PINN(nn.Module):\n",
    "    \"\"\"Physic informed neural network\n",
    "    \"\"\"\n",
    "    def __init__(self, layer_sizes, X_f, F, X_test, F_test, C=1.):\n",
    "        super(PINN, self).__init__()\n",
    "        self.C = C \n",
    "        \n",
    "        # Normolization\n",
    "        # self._normalization(X_f, F)\n",
    "        # self.mx, self.mt = X_f.mean(axis=0)\n",
    "        # self.sx, self.st = X_f.std(axis=0)\n",
    "        # self.mf = F.mean()\n",
    "        # self.sf = F.std()\n",
    "        # Collocation points\n",
    "        self.x_f = torch.tensor(X_f[:, 0:1], requires_grad=True, dtype=torch.float32, device=device)\n",
    "        self.t_f = torch.tensor(X_f[:, 1:2], requires_grad=True, dtype=torch.float32, device=device)\n",
    "        # self.f = torch.tensor((F - self.mf) / self.sf, dtype=torch.float32, device=device)\n",
    "        self.f = torch.tensor(F, dtype=torch.float32, device=device)\n",
    "        # Initial condition\n",
    "        n_i = 1000\n",
    "        self.x_i = torch.rand(n_i, 1, requires_grad=True, device=device)\n",
    "        self.t_0 = torch.zeros(n_i, 1, requires_grad=True, device=device)\n",
    "        # Boundary condition\n",
    "        n_b = 1000\n",
    "        self.t_b0 = torch.rand(n_b, 1, requires_grad=True, device=device)\n",
    "        self.x_0 = torch.zeros(n_b, 1, requires_grad=True, device=device)\n",
    "        self.t_b1 = torch.rand(n_b, 1, requires_grad=True, device=device)\n",
    "        self.x_1 = torch.ones(n_b, 1, requires_grad=True, device=device)\n",
    "        \n",
    "        # Test set\n",
    "        self.X_test = X_test \n",
    "        self.F_test = F_test\n",
    "\n",
    "        self.dnn = DNN(layer_sizes).to(device)\n",
    "        self.num_iter = 0\n",
    "        self.max_num_iter = 10000\n",
    "        self.train_error = []\n",
    "        self.test_error = []\n",
    "\n",
    "        # self.optimizer = torch.optim.LBFGS(\n",
    "        #     self.dnn.parameters(),\n",
    "        #     lr = 1.,\n",
    "        #     max_iter=50000,\n",
    "        #     max_eval=50000,\n",
    "        #     history_size=50,\n",
    "        #     tolerance_grad=1e-16,\n",
    "        #     tolerance_change=1.0 * np.finfo(float).eps,\n",
    "        #     line_search_fn='strong_wolfe'\n",
    "        # )\n",
    "\n",
    "        self.optimizer = torch.optim.Adam(\n",
    "            self.dnn.parameters(),\n",
    "            lr = 0.0001,\n",
    "        )\n",
    "    \n",
    "#     def _normalization(self, X_f, F):\n",
    "#         self.mx = X_f.mean(axis=0, keepdims=True)\n",
    "#         self.sx = X_f.std(axis=0, keepdims=True)\n",
    "#         self.mf = F.mean()\n",
    "#         self.sf = F.std()\n",
    "#         X_f = (X_f - self.mx) / self.sx \n",
    "#         F = (F - self.mf) / self.sf\n",
    "#         self.x_f = torch.tensor(X_f[:, 0:1], requires_grad=True, \n",
    "#                                             dtype=torch.float32, device=device)\n",
    "#         self.t_f = torch.tensor(X_f[:, 1:2], requires_grad=True, \n",
    "#                                             dtype=torch.float32, device=device)\n",
    "#         self.f = torch.tensor(F, dtype=torch.float32, device=device)\n",
    "        \n",
    "    def net_u(self, x, t):\n",
    "        # x = (x - self.mx) / self.sx\n",
    "        # t = (t - self.mt) / self.st\n",
    "        u = self.dnn(torch.cat((x, t), dim=1))\n",
    "        return u \n",
    "\n",
    "    def net_f(self, x, t):\n",
    "        u = self.net_u(x, t)\n",
    "\n",
    "        u_t = torch.autograd.grad(\n",
    "            u, t, \n",
    "            grad_outputs=torch.ones_like(u),\n",
    "            retain_graph=True,\n",
    "            create_graph=True\n",
    "        )[0]\n",
    "\n",
    "        u_tt = torch.autograd.grad(\n",
    "            u_t, t, \n",
    "            grad_outputs=torch.ones_like(u_t),\n",
    "            retain_graph=True,\n",
    "            create_graph=True\n",
    "        )[0]\n",
    "\n",
    "        u_x = torch.autograd.grad(\n",
    "            u, x, \n",
    "            grad_outputs=torch.ones_like(u),\n",
    "            retain_graph=True,\n",
    "            create_graph=True\n",
    "        )[0]\n",
    "\n",
    "        u_xx = torch.autograd.grad(\n",
    "            u_x, x, \n",
    "            grad_outputs=torch.ones_like(u_x),\n",
    "            retain_graph=True,\n",
    "            create_graph=True\n",
    "        )[0]\n",
    "\n",
    "        # Lu = (u_tt / self.C**2 - u_xx - self.mf) / self.sf\n",
    "        Lu = u_tt / self.C**2 - u_xx\n",
    "        return Lu \n",
    "\n",
    "    def compute_loss(self):\n",
    "        # Loss f\n",
    "        self.optimizer.zero_grad()\n",
    "        Lu = self.net_f(self.x_f, self.t_f)\n",
    "        loss_f = torch.mean(torch.square(Lu - self.f))\n",
    "        # Loss i\n",
    "        ui = self.net_u(self.x_i, self.t_0)\n",
    "        ui_t = torch.autograd.grad(\n",
    "            ui, self.t_0,\n",
    "            grad_outputs=torch.ones_like(ui),\n",
    "            retain_graph=True,\n",
    "            create_graph=True\n",
    "        )[0]\n",
    "        loss_i = torch.mean(torch.square(ui)) + torch.mean(torch.square(ui_t))\n",
    "        # Loss b\n",
    "        u0 = self.net_u(self.x_0, self.t_b0)\n",
    "        u1 = self.net_u(self.x_1, self.t_b1)\n",
    "        loss_b = torch.mean(torch.square(u0)) + torch.mean(torch.square(u1))\n",
    "        \n",
    "        loss = loss_f + loss_i + loss_b\n",
    "        self.train_error.append(loss.item())\n",
    "        \n",
    "        # # Test error\n",
    "        # _, Lu_pred = self.predict(self.X_test)\n",
    "        # lt = np.mean(np.square(Lu_pred - self.F_test))\n",
    "        # self.test_error.append(lt)\n",
    "        if self.num_iter % 500 == 0 or self.num_iter == self.max_num_iter:\n",
    "            print(\"Iter %d, Loss: %.4e, Loss f: %.4e, Loss i: %.4e, Loss b: %.4e\" \n",
    "                  % (self.num_iter, loss.item(), loss_f.item(), loss_i.item(), loss_b.item()))\n",
    "        self.num_iter += 1\n",
    "        loss.backward()\n",
    "        return loss\n",
    "\n",
    "    def train(self):\n",
    "        self.dnn.train()\n",
    "        while self.num_iter < self.max_num_iter:\n",
    "            self.optimizer.step(self.compute_loss)\n",
    "            \n",
    "    def predict(self, X_pred):\n",
    "        x = torch.tensor(X_pred[:, 0:1], requires_grad=True, device=device, dtype=torch.float32)\n",
    "        t = torch.tensor(X_pred[:, 1:2], requires_grad=True, device=device, dtype=torch.float32)\n",
    "        self.dnn.eval()   \n",
    "        u = self.net_u(x, t)\n",
    "        Lu = self.net_f(x, t)\n",
    "        # Lu = Lu * self.sf + self.mf\n",
    "        u = u.detach().cpu().numpy()\n",
    "        Lu = Lu.detach().cpu().numpy()\n",
    "        return u, Lu"
   ]
  },
  {
   "cell_type": "code",
   "execution_count": 12,
   "metadata": {},
   "outputs": [
    {
     "name": "stdout",
     "output_type": "stream",
     "text": [
      "Iter 0, Loss: 1.2500e-01, Loss f: 1.2059e-01, Loss i: 1.4339e-03, Loss b: 2.9696e-03\n",
      "Iter 500, Loss: 1.2058e-01, Loss f: 1.2058e-01, Loss i: 6.2088e-08, Loss b: 1.6051e-07\n",
      "Iter 1000, Loss: 1.1245e-01, Loss f: 1.1230e-01, Loss i: 9.6620e-05, Loss b: 5.3409e-05\n",
      "Iter 1500, Loss: 1.6415e-03, Loss f: 1.6238e-03, Loss i: 1.5684e-05, Loss b: 2.0251e-06\n",
      "Iter 2000, Loss: 9.2959e-04, Loss f: 9.1468e-04, Loss i: 1.3572e-05, Loss b: 1.3435e-06\n",
      "Iter 2500, Loss: 9.8717e-04, Loss f: 9.6911e-04, Loss i: 1.6519e-05, Loss b: 1.5384e-06\n",
      "Iter 3000, Loss: 6.8085e-04, Loss f: 6.6735e-04, Loss i: 1.2697e-05, Loss b: 8.0660e-07\n",
      "Iter 3500, Loss: 5.7125e-04, Loss f: 5.5895e-04, Loss i: 1.1786e-05, Loss b: 5.2263e-07\n",
      "Iter 4000, Loss: 5.5459e-04, Loss f: 5.4233e-04, Loss i: 1.1766e-05, Loss b: 4.9065e-07\n",
      "Iter 4500, Loss: 5.1554e-04, Loss f: 5.0291e-04, Loss i: 1.2309e-05, Loss b: 3.2154e-07\n",
      "Iter 5000, Loss: 4.0172e-04, Loss f: 3.9073e-04, Loss i: 1.0893e-05, Loss b: 1.0013e-07\n",
      "Iter 5500, Loss: 6.3834e-04, Loss f: 6.2396e-04, Loss i: 1.3884e-05, Loss b: 4.9230e-07\n",
      "Iter 6000, Loss: 4.1280e-04, Loss f: 4.0040e-04, Loss i: 1.2210e-05, Loss b: 1.8231e-07\n",
      "Iter 6500, Loss: 3.1197e-04, Loss f: 3.0076e-04, Loss i: 1.1059e-05, Loss b: 1.5114e-07\n",
      "Iter 7000, Loss: 2.8531e-04, Loss f: 2.7393e-04, Loss i: 1.1217e-05, Loss b: 1.5993e-07\n",
      "Iter 7500, Loss: 2.7299e-04, Loss f: 2.6107e-04, Loss i: 1.1712e-05, Loss b: 2.0636e-07\n",
      "Iter 8000, Loss: 2.6197e-04, Loss f: 2.4973e-04, Loss i: 1.2031e-05, Loss b: 1.9992e-07\n",
      "Iter 8500, Loss: 2.3265e-04, Loss f: 2.1964e-04, Loss i: 1.2851e-05, Loss b: 1.5413e-07\n",
      "Iter 9000, Loss: 2.3601e-04, Loss f: 2.2221e-04, Loss i: 1.3599e-05, Loss b: 2.0241e-07\n",
      "Iter 9500, Loss: 2.2089e-04, Loss f: 2.0575e-04, Loss i: 1.4884e-05, Loss b: 2.5360e-07\n"
     ]
    }
   ],
   "source": [
    "layer_sizes = [2] + [64] * 10 + [1]\n",
    "pinn = PINN(layer_sizes, X_train, F_train, X_test, F_test)\n",
    "pinn.train()"
   ]
  },
  {
   "cell_type": "code",
   "execution_count": 13,
   "metadata": {},
   "outputs": [
    {
     "data": {
      "text/plain": [
       "<matplotlib.legend.Legend at 0x7f232269fe50>"
      ]
     },
     "execution_count": 13,
     "metadata": {},
     "output_type": "execute_result"
    },
    {
     "data": {
      "image/png": "[encoded data removed]",
      "text/plain": [
       "<Figure size 432x288 with 1 Axes>"
      ]
     },
     "metadata": {
      "needs_background": "light"
     },
     "output_type": "display_data"
    }
   ],
   "source": [
    "plt.plot(pinn.train_error, label=\"Train\")\n",
    "plt.plot(pinn.test_error, label=\"Test\")\n",
    "plt.legend()"
   ]
  },
  {
   "cell_type": "code",
   "execution_count": 14,
   "metadata": {},
   "outputs": [
    {
     "data": {
      "text/plain": [
       "<matplotlib.image.AxesImage at 0x7f232253f370>"
      ]
     },
     "execution_count": 14,
     "metadata": {},
     "output_type": "execute_result"
    },
    {
     "data": {
      "image/png": "[encoded data removed]",
      "text/plain": [
       "<Figure size 432x288 with 2 Axes>"
      ]
     },
     "metadata": {
      "needs_background": "light"
     },
     "output_type": "display_data"
    }
   ],
   "source": [
    "xs = np.linspace(0, 1, 100)\n",
    "ts = np.linspace(0, 1, 100)\n",
    "Xs, Ts = np.meshgrid(xs, ts)\n",
    "X_plot = np.c_[Xs.flatten()[:, np.newaxis], Ts.flatten()[:, np.newaxis]]\n",
    "F_label = source(X_plot).reshape(100, 100)\n",
    "u_pred, F_pred = pinn.predict(X_plot)\n",
    "F_pred = F_pred.reshape(100, 100)\n",
    "u_pred = u_pred.reshape(100, 100)\n",
    "plt.subplot(121)\n",
    "plt.imshow(F_label)\n",
    "plt.subplot(122)\n",
    "plt.imshow(F_pred)"
   ]
  },
  {
   "cell_type": "code",
   "execution_count": 15,
   "metadata": {},
   "outputs": [
    {
     "data": {
      "text/plain": [
       "<matplotlib.image.AxesImage at 0x7f23224f0340>"
      ]
     },
     "execution_count": 15,
     "metadata": {},
     "output_type": "execute_result"
    },
    {
     "data": {
      "image/png": "[encoded data removed]",
      "text/plain": [
       "<Figure size 432x288 with 1 Axes>"
      ]
     },
     "metadata": {
      "needs_background": "light"
     },
     "output_type": "display_data"
    }
   ],
   "source": [
    "plt.imshow(u_pred, cmap=\"gray\")"
   ]
  },
  {
   "cell_type": "code",
   "execution_count": 20,
   "metadata": {},
   "outputs": [
    {
     "data": {
      "text/plain": [
       "[<matplotlib.lines.Line2D at 0x7f2320b98400>]"
      ]
     },
     "execution_count": 20,
     "metadata": {},
     "output_type": "execute_result"
    },
    {
     "data": {
      "image/png": "[encoded data removed]",
      "text/plain": [
       "<Figure size 432x288 with 1 Axes>"
      ]
     },
     "metadata": {
      "needs_background": "light"
     },
     "output_type": "display_data"
    }
   ],
   "source": [
    "plt.plot(u_pred[18, :])"
   ]
  },
  {
   "cell_type": "code",
   "execution_count": null,
   "metadata": {},
   "outputs": [],
   "source": []
  },
  {
   "cell_type": "code",
   "execution_count": null,
   "metadata": {},
   "outputs": [],
   "source": []
  }
 ],
 "metadata": {
  "interpreter": {
   "hash": "7fb573f6801b0d304e22c18a334546aa60592e9da22665e0c79b01891dec50c1"
  },
  "kernelspec": {
   "display_name": "Python 3 (ipykernel)",
   "language": "python",
   "name": "python3"
  },
  "language_info": {
   "codemirror_mode": {
    "name": "ipython",
    "version": 3
   },
   "file_extension": ".py",
   "mimetype": "text/x-python",
   "name": "python",
   "nbconvert_exporter": "python",
   "pygments_lexer": "ipython3",
   "version": "3.9.7"
  }
 },
 "nbformat": 4,
 "nbformat_minor": 4
}
