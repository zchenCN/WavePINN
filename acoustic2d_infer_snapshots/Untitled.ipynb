{
 "cells": [
  {
   "cell_type": "code",
   "execution_count": 1,
   "id": "f360efdb",
   "metadata": {},
   "outputs": [
    {
     "name": "stderr",
     "output_type": "stream",
     "text": [
      "/home/zchen/install/envs/cuda/lib/python3.9/site-packages/tqdm/auto.py:22: TqdmWarning: IProgress not found. Please update jupyter and ipywidgets. See https://ipywidgets.readthedocs.io/en/stable/user_install.html\n",
      "  from .autonotebook import tqdm as notebook_tqdm\n"
     ]
    },
    {
     "name": "stdout",
     "output_type": "stream",
     "text": [
      "device=cuda\n"
     ]
    }
   ],
   "source": [
    "import numpy as np\n",
    "from scipy.interpolate import griddata\n",
    "from matplotlib import pyplot as plt\n",
    "import torch\n",
    "\n",
    "import sys\n",
    "sys.path.append('..')\n",
    "from fnn import FNN\n",
    "device = 'cuda' if torch.cuda.is_available() else 'cpu'\n",
    "print(f'device={device}')"
   ]
  },
  {
   "cell_type": "code",
   "execution_count": 2,
   "id": "0c0bc78f",
   "metadata": {},
   "outputs": [],
   "source": [
    "u0 = np.loadtxt('./wavefield2d_t0.txt')\n",
    "u1 = np.loadtxt('./wavefield2d_t1.txt')"
   ]
  },
  {
   "cell_type": "code",
   "execution_count": 3,
   "id": "c746b033",
   "metadata": {},
   "outputs": [
    {
     "data": {
      "text/plain": [
       "<matplotlib.image.AxesImage at 0x7f44ec4582b0>"
      ]
     },
     "execution_count": 3,
     "metadata": {},
     "output_type": "execute_result"
    },
    {
     "data": {
      "image/png": "[encoded data removed]",
      "text/plain": [
       "<Figure size 432x288 with 2 Axes>"
      ]
     },
     "metadata": {
      "needs_background": "light"
     },
     "output_type": "display_data"
    }
   ],
   "source": [
    "plt.subplot(121)\n",
    "plt.imshow(u0, cmap='rainbow')\n",
    "plt.subplot(122)\n",
    "plt.imshow(u1, cmap='rainbow')"
   ]
  },
  {
   "cell_type": "code",
   "execution_count": 4,
   "id": "226d58d4",
   "metadata": {},
   "outputs": [
    {
     "data": {
      "text/plain": [
       "<matplotlib.image.AxesImage at 0x7f44ec016580>"
      ]
     },
     "execution_count": 4,
     "metadata": {},
     "output_type": "execute_result"
    },
    {
     "data": {
      "image/png": "[encoded data removed]",
      "text/plain": [
       "<Figure size 432x288 with 2 Axes>"
      ]
     },
     "metadata": {
      "needs_background": "light"
     },
     "output_type": "display_data"
    }
   ],
   "source": [
    "# Grid\n",
    "nx = nz = 200\n",
    "h = 0.01\n",
    "xmax = nx * h\n",
    "zmax = nz * h\n",
    "\n",
    "xx, zz = np.meshgrid(np.arange(nx+1)*h, np.arange(nz+1)*h)\n",
    "xx = xx.flatten()[:, np.newaxis]\n",
    "zz = zz.flatten()[:, np.newaxis]\n",
    "X = np.c_[xx, zz]\n",
    "\n",
    "# Initial data\n",
    "num_init = 40# number of initial data per time snapshot is n_init^2\n",
    "x_init, z_init = np.meshgrid(np.linspace(0, xmax, num_init), np.linspace(0, zmax, num_init))\n",
    "X_init = np.c_[x_init.flatten()[:, np.newaxis], z_init.flatten()[:, np.newaxis]] \n",
    "\n",
    "t1 = 0.0\n",
    "t2 = 0.1\n",
    "# t1 \n",
    "t_init1 = t1 * np.ones((num_init**2, 1))\n",
    "TX_init1 = np.c_[t_init1, X_init]\n",
    "U_init1 = griddata(X, u0.flatten(), X_init, fill_value=0.0)[:, np.newaxis] # interpolate wavefield\n",
    "# t2\n",
    "t_init2 = t2 * np.ones((num_init**2, 1))\n",
    "TX_init2 = np.c_[t_init2, X_init]\n",
    "U_init2 = griddata(X, u1.flatten(), X_init, fill_value=0.0)[:, np.newaxis] # interpolate wavefield\n",
    "\n",
    "TX_init = np.r_[TX_init1, TX_init2]\n",
    "U_init = np.r_[U_init1, U_init2]\n",
    "\n",
    "plt.subplot(121)\n",
    "plt.imshow(U_init1.reshape(num_init, num_init), cmap='rainbow')\n",
    "plt.subplot(122)\n",
    "plt.imshow(U_init2.reshape(num_init, num_init), cmap='rainbow')"
   ]
  },
  {
   "cell_type": "code",
   "execution_count": 5,
   "id": "7d77be1d",
   "metadata": {},
   "outputs": [],
   "source": [
    "uscl = np.abs(U_init1).max()\n",
    "\n",
    "TX_init[:, 1:2] /= 2\n",
    "TX_init[:, 2:3] /= 2\n",
    "TX_init = torch.tensor(TX_init, dtype=torch.float64, device=device)\n",
    "U_init = torch.tensor(U_init/uscl, dtype=torch.float64, device=device)\n",
    "\n",
    "\n",
    "TX_init1[:, 1:2] /= 2\n",
    "TX_init1[:, 2:3] /= 2\n",
    "TX_init1 = torch.tensor(TX_init1, dtype=torch.float64, device=device)\n",
    "U_init1 = torch.tensor(U_init1/uscl, dtype=torch.float64, device=device)\n",
    "\n",
    "\n",
    "TX_init2[:, 1:2] /= 2\n",
    "TX_init2[:, 2:3] /= 2\n",
    "TX_init2 = torch.tensor(TX_init2, dtype=torch.float64, device=device)\n",
    "U_init2 = torch.tensor(U_init2/uscl, dtype=torch.float64, device=device)"
   ]
  },
  {
   "cell_type": "code",
   "execution_count": 6,
   "id": "b25cbdcd",
   "metadata": {},
   "outputs": [],
   "source": [
    "layer_sizes = [3]+[30]*3+[1]\n",
    "network = FNN(layer_sizes).to(torch.float64).to(device)\n",
    "\n",
    "lr = 1e-4\n",
    "optimizer = torch.optim.Adam(network.parameters(), lr=lr) "
   ]
  },
  {
   "cell_type": "code",
   "execution_count": 13,
   "id": "cf149bc0",
   "metadata": {},
   "outputs": [],
   "source": [
    "def loss1():\n",
    "    U1= network(TX_init1)\n",
    "    loss_val = torch.mean(torch.square(U1 - U_init1))\n",
    "    error_val = torch.linalg.norm(U1 - U_init1) / torch.linalg.norm(U_init1)\n",
    "    return loss_val, error_val\n",
    "def loss2():\n",
    "    U2 = network(TX_init2)\n",
    "    loss_val = torch.mean(torch.square(U2 - U_init2))\n",
    "    error_val = torch.linalg.norm(U2 - U_init2) / torch.linalg.norm(U_init2)\n",
    "    return loss_val, error_val\n",
    "\n",
    "def loss():\n",
    "    U = network(TX_init)\n",
    "    loss_val = torch.mean(torch.square(U - U_init))\n",
    "    error_val = torch.linalg.norm(U - U_init) / torch.linalg.norm(U_init)\n",
    "    return loss_val, error_val"
   ]
  },
  {
   "cell_type": "code",
   "execution_count": 16,
   "id": "110896ac",
   "metadata": {},
   "outputs": [],
   "source": [
    "loss_list = list()\n",
    "error_list = list()\n",
    "def train():\n",
    "    max_epoch = 200000\n",
    "    interval = 1000\n",
    "    for num_epoch in range(max_epoch):\n",
    "        loss_val, error_val = loss()\n",
    "        # loss_val, error_val = loss1()\n",
    "        # loss_val, error_val = loss2()\n",
    "        loss_list.append(loss_val.item())\n",
    "        error_list.append(error_val.item())\n",
    "        \n",
    "        if num_epoch % interval == 0:\n",
    "            print('Epoch: ', num_epoch, f\"Loss: {loss_val.item():.8f}\", f\"Error: {error_val.item():.8f}\")\n",
    "        optimizer.zero_grad()\n",
    "        loss_val.backward()\n",
    "        optimizer.step()"
   ]
  },
  {
   "cell_type": "code",
   "execution_count": 17,
   "id": "27dc9ef1",
   "metadata": {
    "scrolled": true
   },
   "outputs": [
    {
     "name": "stdout",
     "output_type": "stream",
     "text": [
      "Epoch:  0 Loss: 0.01217484 Error: 1.01638103\n",
      "Epoch:  1000 Loss: 0.01178540 Error: 0.99999323\n",
      "Epoch:  2000 Loss: 0.01178518 Error: 0.99998389\n",
      "Epoch:  3000 Loss: 0.01178512 Error: 0.99998122\n",
      "Epoch:  4000 Loss: 0.01178513 Error: 0.99998156\n",
      "Epoch:  5000 Loss: 0.01178503 Error: 0.99997757\n",
      "Epoch:  6000 Loss: 0.01178500 Error: 0.99997612\n",
      "Epoch:  7000 Loss: 0.01178497 Error: 0.99997474\n",
      "Epoch:  8000 Loss: 0.01178493 Error: 0.99997333\n",
      "Epoch:  9000 Loss: 0.01178490 Error: 0.99997180\n",
      "Epoch:  10000 Loss: 0.01178485 Error: 0.99997000\n",
      "Epoch:  11000 Loss: 0.01178480 Error: 0.99996770\n",
      "Epoch:  12000 Loss: 0.01178472 Error: 0.99996444\n",
      "Epoch:  13000 Loss: 0.01178464 Error: 0.99996075\n",
      "Epoch:  14000 Loss: 0.01178436 Error: 0.99994882\n",
      "Epoch:  15000 Loss: 0.01178389 Error: 0.99992905\n",
      "Epoch:  16000 Loss: 0.01178332 Error: 0.99990471\n",
      "Epoch:  17000 Loss: 0.01178286 Error: 0.99988528\n",
      "Epoch:  18000 Loss: 0.01178237 Error: 0.99986478\n",
      "Epoch:  19000 Loss: 0.01178171 Error: 0.99983643\n",
      "Epoch:  20000 Loss: 0.01178062 Error: 0.99979029\n",
      "Epoch:  21000 Loss: 0.01177855 Error: 0.99970264\n",
      "Epoch:  22000 Loss: 0.01177560 Error: 0.99957746\n",
      "Epoch:  23000 Loss: 0.01177258 Error: 0.99944892\n",
      "Epoch:  24000 Loss: 0.01176973 Error: 0.99932811\n",
      "Epoch:  25000 Loss: 0.01176634 Error: 0.99918409\n",
      "Epoch:  26000 Loss: 0.01175890 Error: 0.99886810\n",
      "Epoch:  27000 Loss: 0.01174074 Error: 0.99809673\n",
      "Epoch:  28000 Loss: 0.01170621 Error: 0.99662798\n",
      "Epoch:  29000 Loss: 0.01165588 Error: 0.99448310\n",
      "Epoch:  30000 Loss: 0.01158546 Error: 0.99147455\n",
      "Epoch:  31000 Loss: 0.01143589 Error: 0.98505355\n",
      "Epoch:  32000 Loss: 0.01117137 Error: 0.97359437\n",
      "Epoch:  33000 Loss: 0.01075467 Error: 0.95526405\n",
      "Epoch:  34000 Loss: 0.01015038 Error: 0.92803863\n",
      "Epoch:  35000 Loss: 0.00930681 Error: 0.88863860\n",
      "Epoch:  36000 Loss: 0.00852169 Error: 0.85033055\n",
      "Epoch:  37000 Loss: 0.00766242 Error: 0.80632069\n",
      "Epoch:  38000 Loss: 0.00623937 Error: 0.72760405\n",
      "Epoch:  39000 Loss: 0.00466668 Error: 0.62925791\n",
      "Epoch:  40000 Loss: 0.00366317 Error: 0.55751105\n",
      "Epoch:  41000 Loss: 0.00259409 Error: 0.46915626\n",
      "Epoch:  42000 Loss: 0.00126812 Error: 0.32802344\n",
      "Epoch:  43000 Loss: 0.00056418 Error: 0.21879291\n",
      "Epoch:  44000 Loss: 0.00032349 Error: 0.16567327\n",
      "Epoch:  45000 Loss: 0.00022508 Error: 0.13819436\n",
      "Epoch:  46000 Loss: 0.00017203 Error: 0.12081509\n",
      "Epoch:  47000 Loss: 0.00013878 Error: 0.10851296\n",
      "Epoch:  48000 Loss: 0.00011544 Error: 0.09897019\n",
      "Epoch:  49000 Loss: 0.00009803 Error: 0.09120004\n",
      "Epoch:  50000 Loss: 0.00008456 Error: 0.08470333\n",
      "Epoch:  51000 Loss: 0.00007386 Error: 0.07916675\n",
      "Epoch:  52000 Loss: 0.00006530 Error: 0.07443548\n",
      "Epoch:  53000 Loss: 0.00005828 Error: 0.07031811\n",
      "Epoch:  54000 Loss: 0.00005249 Error: 0.06673494\n",
      "Epoch:  55000 Loss: 0.00004774 Error: 0.06364829\n",
      "Epoch:  56000 Loss: 0.00004383 Error: 0.06098080\n",
      "Epoch:  57000 Loss: 0.00004051 Error: 0.05862489\n",
      "Epoch:  58000 Loss: 0.00003763 Error: 0.05650604\n",
      "Epoch:  59000 Loss: 0.00003508 Error: 0.05455537\n",
      "Epoch:  60000 Loss: 0.00003283 Error: 0.05278278\n",
      "Epoch:  61000 Loss: 0.00003083 Error: 0.05114392\n",
      "Epoch:  62000 Loss: 0.00002926 Error: 0.04983067\n",
      "Epoch:  63000 Loss: 0.00002737 Error: 0.04819045\n",
      "Epoch:  64000 Loss: 0.00002589 Error: 0.04686833\n",
      "Epoch:  65000 Loss: 0.00002452 Error: 0.04561338\n",
      "Epoch:  66000 Loss: 0.00002355 Error: 0.04469664\n",
      "Epoch:  67000 Loss: 0.00002216 Error: 0.04336261\n",
      "Epoch:  68000 Loss: 0.00002109 Error: 0.04229962\n",
      "Epoch:  69000 Loss: 0.00002014 Error: 0.04134224\n",
      "Epoch:  70000 Loss: 0.00001924 Error: 0.04040575\n",
      "Epoch:  71000 Loss: 0.00001845 Error: 0.03956730\n",
      "Epoch:  72000 Loss: 0.00001768 Error: 0.03873243\n",
      "Epoch:  73000 Loss: 0.00001699 Error: 0.03796807\n",
      "Epoch:  74000 Loss: 0.00001647 Error: 0.03738737\n",
      "Epoch:  75000 Loss: 0.00001577 Error: 0.03657913\n",
      "Epoch:  76000 Loss: 0.00001520 Error: 0.03591804\n",
      "Epoch:  77000 Loss: 0.00001466 Error: 0.03527429\n",
      "Epoch:  78000 Loss: 0.00001417 Error: 0.03467927\n",
      "Epoch:  79000 Loss: 0.00001374 Error: 0.03413885\n",
      "Epoch:  80000 Loss: 0.00001328 Error: 0.03357059\n",
      "Epoch:  81000 Loss: 0.00001288 Error: 0.03305305\n",
      "Epoch:  82000 Loss: 0.00001249 Error: 0.03255585\n",
      "Epoch:  83000 Loss: 0.00001213 Error: 0.03207906\n",
      "Epoch:  84000 Loss: 0.00001179 Error: 0.03162516\n",
      "Epoch:  85000 Loss: 0.00001146 Error: 0.03118011\n",
      "Epoch:  86000 Loss: 0.00001150 Error: 0.03123338\n",
      "Epoch:  87000 Loss: 0.00001088 Error: 0.03038275\n",
      "Epoch:  88000 Loss: 0.00001058 Error: 0.02995542\n",
      "Epoch:  89000 Loss: 0.00001030 Error: 0.02956133\n",
      "Epoch:  90000 Loss: 0.00001021 Error: 0.02943349\n",
      "Epoch:  91000 Loss: 0.00000983 Error: 0.02887809\n",
      "Epoch:  92000 Loss: 0.00000956 Error: 0.02848381\n",
      "Epoch:  93000 Loss: 0.00000934 Error: 0.02815736\n",
      "Epoch:  94000 Loss: 0.00000913 Error: 0.02783787\n",
      "Epoch:  95000 Loss: 0.00000892 Error: 0.02750606\n",
      "Epoch:  96000 Loss: 0.00000872 Error: 0.02719461\n",
      "Epoch:  97000 Loss: 0.00000855 Error: 0.02692770\n",
      "Epoch:  98000 Loss: 0.00000864 Error: 0.02706880\n",
      "Epoch:  99000 Loss: 0.00000817 Error: 0.02632692\n",
      "Epoch:  100000 Loss: 0.00000800 Error: 0.02605196\n",
      "Epoch:  101000 Loss: 0.00000789 Error: 0.02586742\n",
      "Epoch:  102000 Loss: 0.00000768 Error: 0.02552885\n",
      "Epoch:  103000 Loss: 0.00000794 Error: 0.02595386\n",
      "Epoch:  104000 Loss: 0.00000738 Error: 0.02502523\n",
      "Epoch:  105000 Loss: 0.00000724 Error: 0.02478503\n",
      "Epoch:  106000 Loss: 0.00000711 Error: 0.02455735\n",
      "Epoch:  107000 Loss: 0.00000699 Error: 0.02434855\n",
      "Epoch:  108000 Loss: 0.00000684 Error: 0.02409030\n",
      "Epoch:  109000 Loss: 0.00000680 Error: 0.02402801\n",
      "Epoch:  110000 Loss: 0.00000659 Error: 0.02365469\n",
      "Epoch:  111000 Loss: 0.00000648 Error: 0.02344562\n",
      "Epoch:  112000 Loss: 0.00000640 Error: 0.02330858\n",
      "Epoch:  113000 Loss: 0.00000626 Error: 0.02305056\n",
      "Epoch:  114000 Loss: 0.00000625 Error: 0.02302192\n",
      "Epoch:  115000 Loss: 0.00000611 Error: 0.02277686\n",
      "Epoch:  116000 Loss: 0.00000607 Error: 0.02269891\n",
      "Epoch:  117000 Loss: 0.00000585 Error: 0.02228502\n",
      "Epoch:  118000 Loss: 0.00000575 Error: 0.02209629\n",
      "Epoch:  119000 Loss: 0.00000577 Error: 0.02211891\n",
      "Epoch:  120000 Loss: 0.00000558 Error: 0.02175482\n",
      "Epoch:  121000 Loss: 0.00000549 Error: 0.02157380\n",
      "Epoch:  122000 Loss: 0.00000553 Error: 0.02165613\n",
      "Epoch:  123000 Loss: 0.00000532 Error: 0.02124183\n",
      "Epoch:  124000 Loss: 0.00000524 Error: 0.02108126\n",
      "Epoch:  125000 Loss: 0.00000542 Error: 0.02144011\n",
      "Epoch:  126000 Loss: 0.00000522 Error: 0.02104269\n",
      "Epoch:  127000 Loss: 0.00000501 Error: 0.02062100\n",
      "Epoch:  128000 Loss: 0.00000502 Error: 0.02063393\n",
      "Epoch:  129000 Loss: 0.00000487 Error: 0.02032832\n",
      "Epoch:  130000 Loss: 0.00000480 Error: 0.02018563\n",
      "Epoch:  131000 Loss: 0.00000474 Error: 0.02005617\n",
      "Epoch:  132000 Loss: 0.00000467 Error: 0.01990219\n",
      "Epoch:  133000 Loss: 0.00000460 Error: 0.01976457\n",
      "Epoch:  134000 Loss: 0.00000454 Error: 0.01963163\n",
      "Epoch:  135000 Loss: 0.00000448 Error: 0.01950165\n",
      "Epoch:  136000 Loss: 0.00000445 Error: 0.01943806\n",
      "Epoch:  137000 Loss: 0.00000437 Error: 0.01925918\n",
      "Epoch:  138000 Loss: 0.00000431 Error: 0.01912289\n",
      "Epoch:  139000 Loss: 0.00000426 Error: 0.01901159\n",
      "Epoch:  140000 Loss: 0.00000420 Error: 0.01888048\n",
      "Epoch:  141000 Loss: 0.00000415 Error: 0.01876141\n",
      "Epoch:  142000 Loss: 0.00000410 Error: 0.01864515\n",
      "Epoch:  143000 Loss: 0.00000405 Error: 0.01853072\n",
      "Epoch:  144000 Loss: 0.00000400 Error: 0.01841924\n",
      "Epoch:  145000 Loss: 0.00000396 Error: 0.01833182\n",
      "Epoch:  146000 Loss: 0.00000390 Error: 0.01819735\n",
      "Epoch:  147000 Loss: 0.00000418 Error: 0.01882427\n",
      "Epoch:  148000 Loss: 0.00000381 Error: 0.01798431\n",
      "Epoch:  149000 Loss: 0.00000380 Error: 0.01794623\n",
      "Epoch:  150000 Loss: 0.00000372 Error: 0.01777721\n",
      "Epoch:  151000 Loss: 0.00000368 Error: 0.01767540\n",
      "Epoch:  152000 Loss: 0.00000364 Error: 0.01757673\n",
      "Epoch:  153000 Loss: 0.00000393 Error: 0.01826918\n",
      "Epoch:  154000 Loss: 0.00000381 Error: 0.01798959\n",
      "Epoch:  155000 Loss: 0.00000399 Error: 0.01840524\n",
      "Epoch:  156000 Loss: 0.00000352 Error: 0.01727388\n",
      "Epoch:  157000 Loss: 0.00000345 Error: 0.01710459\n",
      "Epoch:  158000 Loss: 0.00000351 Error: 0.01726668\n",
      "Epoch:  159000 Loss: 0.00000339 Error: 0.01695177\n",
      "Epoch:  160000 Loss: 0.00000334 Error: 0.01683572\n",
      "Epoch:  161000 Loss: 0.00000331 Error: 0.01675049\n",
      "Epoch:  162000 Loss: 0.00000328 Error: 0.01667951\n",
      "Epoch:  163000 Loss: 0.00000324 Error: 0.01658603\n",
      "Epoch:  164000 Loss: 0.00000321 Error: 0.01649996\n",
      "Epoch:  165000 Loss: 0.00000318 Error: 0.01641943\n",
      "Epoch:  166000 Loss: 0.00000315 Error: 0.01634172\n"
     ]
    },
    {
     "name": "stdout",
     "output_type": "stream",
     "text": [
      "Epoch:  167000 Loss: 0.00000312 Error: 0.01626263\n",
      "Epoch:  168000 Loss: 0.00000312 Error: 0.01626626\n",
      "Epoch:  169000 Loss: 0.00000306 Error: 0.01611849\n",
      "Epoch:  170000 Loss: 0.00000303 Error: 0.01604088\n",
      "Epoch:  171000 Loss: 0.00000302 Error: 0.01599604\n",
      "Epoch:  172000 Loss: 0.00000298 Error: 0.01589184\n",
      "Epoch:  173000 Loss: 0.00000295 Error: 0.01581943\n",
      "Epoch:  174000 Loss: 0.00000292 Error: 0.01575160\n",
      "Epoch:  175000 Loss: 0.00000291 Error: 0.01571262\n",
      "Epoch:  176000 Loss: 0.00000287 Error: 0.01561597\n",
      "Epoch:  177000 Loss: 0.00000285 Error: 0.01554439\n",
      "Epoch:  178000 Loss: 0.00000287 Error: 0.01560981\n",
      "Epoch:  179000 Loss: 0.00000280 Error: 0.01542019\n",
      "Epoch:  180000 Loss: 0.00000278 Error: 0.01534926\n",
      "Epoch:  181000 Loss: 0.00000276 Error: 0.01531154\n",
      "Epoch:  182000 Loss: 0.00000286 Error: 0.01558825\n",
      "Epoch:  183000 Loss: 0.00000271 Error: 0.01516334\n",
      "Epoch:  184000 Loss: 0.00000290 Error: 0.01569867\n",
      "Epoch:  185000 Loss: 0.00000267 Error: 0.01505118\n",
      "Epoch:  186000 Loss: 0.00000277 Error: 0.01532524\n",
      "Epoch:  187000 Loss: 0.00000294 Error: 0.01580252\n",
      "Epoch:  188000 Loss: 0.00000279 Error: 0.01537764\n",
      "Epoch:  189000 Loss: 0.00000312 Error: 0.01627770\n",
      "Epoch:  190000 Loss: 0.00000258 Error: 0.01478253\n",
      "Epoch:  191000 Loss: 0.00000274 Error: 0.01525257\n",
      "Epoch:  192000 Loss: 0.00000253 Error: 0.01465822\n",
      "Epoch:  193000 Loss: 0.00000251 Error: 0.01459438\n",
      "Epoch:  194000 Loss: 0.00000250 Error: 0.01455443\n",
      "Epoch:  195000 Loss: 0.00000247 Error: 0.01448949\n",
      "Epoch:  196000 Loss: 0.00000248 Error: 0.01452064\n",
      "Epoch:  197000 Loss: 0.00000244 Error: 0.01438732\n",
      "Epoch:  198000 Loss: 0.00000242 Error: 0.01433711\n",
      "Epoch:  199000 Loss: 0.00000271 Error: 0.01515390\n"
     ]
    }
   ],
   "source": [
    "train()"
   ]
  },
  {
   "cell_type": "code",
   "execution_count": 18,
   "id": "b0bdb68e",
   "metadata": {},
   "outputs": [
    {
     "data": {
      "text/plain": [
       "Text(0.5, 1.0, 'Error')"
      ]
     },
     "execution_count": 18,
     "metadata": {},
     "output_type": "execute_result"
    },
    {
     "data": {
      "image/png": "[encoded data removed]",
      "text/plain": [
       "<Figure size 432x288 with 2 Axes>"
      ]
     },
     "metadata": {
      "needs_background": "light"
     },
     "output_type": "display_data"
    }
   ],
   "source": [
    "plt.subplot(121)\n",
    "plt.plot(loss_list, label='loss')\n",
    "plt.title('Loss')\n",
    "plt.subplot(122)\n",
    "plt.plot(error_list, label='error')\n",
    "plt.title('Error')"
   ]
  },
  {
   "cell_type": "code",
   "execution_count": 19,
   "id": "1a4c6916",
   "metadata": {},
   "outputs": [],
   "source": [
    "def predict(TX):\n",
    "    # TX = torch.tensor(TX, dtype=torch.float64, device=device)\n",
    "    u_pred = network(TX).detach().cpu().numpy()\n",
    "    return u_pred"
   ]
  },
  {
   "cell_type": "code",
   "execution_count": 20,
   "id": "1d0f32d0",
   "metadata": {},
   "outputs": [
    {
     "data": {
      "text/plain": [
       "<matplotlib.image.AxesImage at 0x7f44ec04b160>"
      ]
     },
     "execution_count": 20,
     "metadata": {},
     "output_type": "execute_result"
    },
    {
     "data": {
      "image/png": "[encoded data removed]",
      "text/plain": [
       "<Figure size 432x288 with 1 Axes>"
      ]
     },
     "metadata": {
      "needs_background": "light"
     },
     "output_type": "display_data"
    }
   ],
   "source": [
    "U_pred1 = predict(TX_init1).reshape(num_init, num_init)\n",
    "plt.subplot(121)\n",
    "plt.imshow(U_pred1.reshape(num_init, num_init), cmap='rainbow')"
   ]
  },
  {
   "cell_type": "code",
   "execution_count": 21,
   "id": "7b6f87cb",
   "metadata": {},
   "outputs": [
    {
     "data": {
      "text/plain": [
       "<matplotlib.image.AxesImage at 0x7f44c8cdafd0>"
      ]
     },
     "execution_count": 21,
     "metadata": {},
     "output_type": "execute_result"
    },
    {
     "data": {
      "image/png": "[encoded data removed]",
      "text/plain": [
       "<Figure size 432x288 with 1 Axes>"
      ]
     },
     "metadata": {
      "needs_background": "light"
     },
     "output_type": "display_data"
    }
   ],
   "source": [
    "U_pred2 = predict(TX_init2).reshape(num_init, num_init)\n",
    "plt.subplot(122)\n",
    "plt.imshow(U_pred2.reshape(num_init, num_init), cmap='rainbow')"
   ]
  },
  {
   "cell_type": "code",
   "execution_count": 2,
   "id": "b9e50ee7",
   "metadata": {},
   "outputs": [],
   "source": [
    "# test model \n",
    "model = torch.load('model.pt')"
   ]
  },
  {
   "cell_type": "code",
   "execution_count": 4,
   "id": "fc37ad2d",
   "metadata": {},
   "outputs": [],
   "source": [
    "## ---------------------- 1. Data Preprocess---------------------------------------------------\n",
    "h = 0.01 # km\n",
    "dt = 0.001 # s\n",
    "nx = nz = 200 \n",
    "xmax = h * nx \n",
    "zmax = h * nz\n",
    "\n",
    "nt1 = 200\n",
    "nt2 = 300\n",
    "nt3 = 500\n",
    "nt4 = 850\n",
    "t1 = 0.0\n",
    "t2 = (nt2 - nt1) * dt \n",
    "t3 = (nt3 - nt1) * dt \n",
    "t4 = (nt4 - nt1) * dt \n",
    "\n",
    "# Load data \n",
    "u = list()\n",
    "for i in range(4):\n",
    "    data = np.loadtxt('./wavefield2d_t' + str(i) + '.txt')\n",
    "    u.append(data)\n",
    "\n",
    "# Grid\n",
    "xx, zz = np.meshgrid(np.arange(nx+1)*h, np.arange(nz+1)*h)\n",
    "xx = xx.flatten()[:, np.newaxis]\n",
    "zz = zz.flatten()[:, np.newaxis]\n",
    "X = np.c_[xx, zz]\n",
    "\n",
    "# Initial data\n",
    "num_init = 40 # number of initial data per time snapshot is n_init^2\n",
    "x_init, z_init = np.meshgrid(np.linspace(0, xmax, num_init), np.linspace(0, zmax, num_init))\n",
    "X_init = np.c_[x_init.flatten()[:, np.newaxis], z_init.flatten()[:, np.newaxis]] \n",
    "# t1 \n",
    "t_init1 = t1 * np.ones((num_init**2, 1))\n",
    "TX_init1 = np.c_[t_init1, X_init]\n",
    "U_init1 = griddata(X, u[0].flatten(), X_init)[:, np.newaxis] # interpolate wavefield\n",
    "# t2\n",
    "t_init2 = t2 * np.ones((num_init**2, 1))\n",
    "TX_init2 = np.c_[t_init2, X_init]\n",
    "U_init2 = griddata(X, u[1].flatten(), X_init)[:, np.newaxis] # interpolate wavefield\n",
    "\n",
    "TX_init = np.r_[TX_init1, TX_init2]\n",
    "U_init = np.r_[U_init1, U_init2]\n",
    "\n",
    "# Test data\n",
    "# t3 \n",
    "t_init3 = t3 * np.ones((num_init**2, 1))\n",
    "TX_init3 = np.c_[t_init3, X_init]\n",
    "U_init3 = griddata(X, u[2].flatten(), X_init)[:, np.newaxis] # interpolate wavefield\n",
    "# t2\n",
    "t_init4 = t4 * np.ones((num_init**2, 1))\n",
    "TX_init4 = np.c_[t_init4, X_init]\n",
    "U_init4 = griddata(X, u[3].flatten(), X_init)[:, np.newaxis] # interpolate wavefield\n",
    "\n",
    "TX_test = np.r_[TX_init3, TX_init4]\n",
    "U_test = np.r_[U_init3, U_init4]"
   ]
  },
  {
   "cell_type": "code",
   "execution_count": 5,
   "id": "113d7d84",
   "metadata": {},
   "outputs": [
    {
     "data": {
      "text/plain": [
       "3.5035848498288275e-06"
      ]
     },
     "execution_count": 5,
     "metadata": {},
     "output_type": "execute_result"
    }
   ],
   "source": [
    "uscl = np.abs(U_init).max()\n",
    "uscl"
   ]
  },
  {
   "cell_type": "code",
   "execution_count": 8,
   "id": "7ca7a25e",
   "metadata": {},
   "outputs": [],
   "source": [
    "def predict(TX):\n",
    "    TX = torch.tensor(TX, dtype=torch.float64, device=device)\n",
    "    U_pred = model(TX).detach().cpu().numpy()\n",
    "    return U_pred * uscl\n",
    "\n",
    "def error(U_pred, U_test):\n",
    "    assert U_pred.shape == U_test.shape\n",
    "    error_val = np.linalg.norm(U_pred - U_test) / np.linalg.norm(U_test)\n",
    "    return error_val"
   ]
  },
  {
   "cell_type": "code",
   "execution_count": 9,
   "id": "55f11bed",
   "metadata": {},
   "outputs": [
    {
     "data": {
      "text/plain": [
       "0.013569165753698039"
      ]
     },
     "execution_count": 9,
     "metadata": {},
     "output_type": "execute_result"
    }
   ],
   "source": [
    "U_pred1 = predict(TX_init1)\n",
    "error(U_pred1, U_init1)"
   ]
  },
  {
   "cell_type": "code",
   "execution_count": 10,
   "id": "57af2aff",
   "metadata": {},
   "outputs": [
    {
     "data": {
      "text/plain": [
       "0.022250127684804704"
      ]
     },
     "execution_count": 10,
     "metadata": {},
     "output_type": "execute_result"
    }
   ],
   "source": [
    "U_pred2 = predict(TX_init2)\n",
    "error(U_pred2, U_init2)"
   ]
  },
  {
   "cell_type": "code",
   "execution_count": 11,
   "id": "252b9e52",
   "metadata": {},
   "outputs": [
    {
     "data": {
      "text/plain": [
       "1.4364282088461622"
      ]
     },
     "execution_count": 11,
     "metadata": {},
     "output_type": "execute_result"
    }
   ],
   "source": [
    "U_pred3 = predict(TX_init3)\n",
    "error(U_pred3, U_init3)"
   ]
  },
  {
   "cell_type": "code",
   "execution_count": 12,
   "id": "cbf13b9e",
   "metadata": {},
   "outputs": [
    {
     "data": {
      "text/plain": [
       "0.12153883092920306"
      ]
     },
     "execution_count": 12,
     "metadata": {},
     "output_type": "execute_result"
    }
   ],
   "source": [
    "U_pred4 = predict(TX_init4)\n",
    "error(U_pred4, U_init4)"
   ]
  },
  {
   "cell_type": "code",
   "execution_count": 13,
   "id": "3e323eed",
   "metadata": {},
   "outputs": [
    {
     "data": {
      "text/plain": [
       "<matplotlib.image.AxesImage at 0x7f057c0556d0>"
      ]
     },
     "execution_count": 13,
     "metadata": {},
     "output_type": "execute_result"
    },
    {
     "data": {
      "image/png": "[encoded data removed]",
      "text/plain": [
       "<Figure size 432x288 with 2 Axes>"
      ]
     },
     "metadata": {
      "needs_background": "light"
     },
     "output_type": "display_data"
    }
   ],
   "source": [
    "plt.subplot(121)\n",
    "plt.imshow(U_init3.reshape(num_init, num_init))\n",
    "plt.subplot(122)\n",
    "plt.imshow(U_pred3.reshape(num_init, num_init))"
   ]
  },
  {
   "cell_type": "code",
   "execution_count": 14,
   "id": "f1f1944e",
   "metadata": {},
   "outputs": [
    {
     "data": {
      "text/plain": [
       "<matplotlib.image.AxesImage at 0x7f0575bd1af0>"
      ]
     },
     "execution_count": 14,
     "metadata": {},
     "output_type": "execute_result"
    },
    {
     "data": {
      "image/png": "[encoded data removed]",
      "text/plain": [
       "<Figure size 432x288 with 2 Axes>"
      ]
     },
     "metadata": {
      "needs_background": "light"
     },
     "output_type": "display_data"
    }
   ],
   "source": [
    "plt.subplot(121)\n",
    "plt.imshow(U_init4.reshape(num_init, num_init))\n",
    "plt.subplot(122)\n",
    "plt.imshow(U_pred4.reshape(num_init, num_init))"
   ]
  },
  {
   "cell_type": "code",
   "execution_count": 15,
   "id": "5d71d705",
   "metadata": {},
   "outputs": [
    {
     "data": {
      "text/plain": [
       "(0.0, 0.0)"
      ]
     },
     "execution_count": 15,
     "metadata": {},
     "output_type": "execute_result"
    }
   ],
   "source": [
    "TX_init3[:, 0:1].max(), TX_init3[:, 0:1].min() "
   ]
  },
  {
   "cell_type": "code",
   "execution_count": 16,
   "id": "d8549d9f",
   "metadata": {},
   "outputs": [
    {
     "data": {
      "text/plain": [
       "0.3"
      ]
     },
     "execution_count": 16,
     "metadata": {},
     "output_type": "execute_result"
    }
   ],
   "source": [
    "t3"
   ]
  },
  {
   "cell_type": "code",
   "execution_count": 17,
   "id": "fd40d35d",
   "metadata": {},
   "outputs": [
    {
     "data": {
      "text/plain": [
       "40401"
      ]
     },
     "execution_count": 17,
     "metadata": {},
     "output_type": "execute_result"
    }
   ],
   "source": [
    "len(X)"
   ]
  },
  {
   "cell_type": "code",
   "execution_count": 21,
   "id": "61d28393",
   "metadata": {},
   "outputs": [],
   "source": [
    "t_pred = t4 * np.ones((len(X), 1))\n",
    "TX_pred = np.c_[t_pred, X]\n",
    "U_pred = predict(TX_pred)"
   ]
  },
  {
   "cell_type": "code",
   "execution_count": 22,
   "id": "840ef56d",
   "metadata": {},
   "outputs": [
    {
     "data": {
      "text/plain": [
       "<matplotlib.image.AxesImage at 0x7f0575a72c40>"
      ]
     },
     "execution_count": 22,
     "metadata": {},
     "output_type": "execute_result"
    },
    {
     "data": {
      "image/png": "[encoded data removed]",
      "text/plain": [
       "<Figure size 432x288 with 1 Axes>"
      ]
     },
     "metadata": {
      "needs_background": "light"
     },
     "output_type": "display_data"
    },
    {
     "ename": "",
     "evalue": "",
     "output_type": "error",
     "traceback": [
      "\u001b[1;31mThe Kernel crashed while executing code in the the current cell or a previous cell. Please review the code in the cell(s) to identify a possible cause of the failure. Click <a href='https://aka.ms/vscodeJupyterKernelCrash'>here</a> for more info. View Jupyter <a href='command:jupyter.viewOutput'>log</a> for further details."
     ]
    }
   ],
   "source": [
    "plt.imshow(U_pred.reshape(201, 201))"
   ]
  },
  {
   "cell_type": "code",
   "execution_count": null,
   "id": "704c10b9",
   "metadata": {},
   "outputs": [],
   "source": []
  }
 ],
 "metadata": {
  "interpreter": {
   "hash": "7fb573f6801b0d304e22c18a334546aa60592e9da22665e0c79b01891dec50c1"
  },
  "kernelspec": {
   "display_name": "Python 3.9.7 ('cuda')",
   "language": "python",
   "name": "python3"
  },
  "language_info": {
   "codemirror_mode": {
    "name": "ipython",
    "version": 3
   },
   "file_extension": ".py",
   "mimetype": "text/x-python",
   "name": "python",
   "nbconvert_exporter": "python",
   "pygments_lexer": "ipython3",
   "version": "3.9.7"
  }
 },
 "nbformat": 4,
 "nbformat_minor": 5
}
